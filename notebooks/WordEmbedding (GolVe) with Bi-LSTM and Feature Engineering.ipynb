{
 "cells": [
  {
   "cell_type": "code",
   "execution_count": 2,
   "metadata": {
    "executionInfo": {
     "elapsed": 922,
     "status": "ok",
     "timestamp": 1604833879551,
     "user": {
      "displayName": "Bangda Zhou",
      "photoUrl": "https://lh3.googleusercontent.com/a-/AOh14GhXfpJ3TqGfKVLpDDP5vFqQdt_3AHl6d8MEJtH9nw=s64",
      "userId": "16045434051200219383"
     },
     "user_tz": -480
    },
    "id": "ov1p0Nj0kEIu"
   },
   "outputs": [],
   "source": [
    "from numpy import array\n",
    "from numpy import asarray\n",
    "from numpy import zeros\n",
    "\n",
    "import keras\n",
    "from keras.preprocessing.text import one_hot\n",
    "from keras.preprocessing.sequence import pad_sequences\n",
    "from keras.models import Sequential\n",
    "from keras.layers.core import Activation, Dropout, Dense\n",
    "from keras.layers import Flatten, LSTM, concatenate\n",
    "from keras.layers import Bidirectional, GlobalMaxPool1D, BatchNormalization, GlobalAveragePooling1D, GlobalMaxPooling1D\n",
    "from keras.models import Model\n",
    "from keras.layers.embeddings import Embedding\n",
    "from sklearn.model_selection import train_test_split\n",
    "from keras.preprocessing.text import Tokenizer\n",
    "from keras.layers import Input\n",
    "from keras.layers.merge import Concatenate\n",
    "from sklearn.metrics import multilabel_confusion_matrix, hamming_loss, f1_score\n",
    "from keras.callbacks import ModelCheckpoint, EarlyStopping\n",
    "\n",
    "import pandas as pd\n",
    "import numpy as np\n",
    "import re\n",
    "import seaborn as sns\n",
    "import matplotlib.pyplot as plt"
   ]
  },
  {
   "cell_type": "code",
   "execution_count": 3,
   "metadata": {
    "colab": {
     "base_uri": "https://localhost:8080/"
    },
    "executionInfo": {
     "elapsed": 16918,
     "status": "ok",
     "timestamp": 1604833895765,
     "user": {
      "displayName": "Bangda Zhou",
      "photoUrl": "https://lh3.googleusercontent.com/a-/AOh14GhXfpJ3TqGfKVLpDDP5vFqQdt_3AHl6d8MEJtH9nw=s64",
      "userId": "16045434051200219383"
     },
     "user_tz": -480
    },
    "id": "vT2eYMS151X8",
    "outputId": "e95002bd-c83e-4e53-eaa4-78f061c5ab5a"
   },
   "outputs": [
    {
     "name": "stdout",
     "output_type": "stream",
     "text": [
      "Mounted at /content/drive\n"
     ]
    }
   ],
   "source": [
    "# Mount Drive\n",
    "from google.colab import drive\n",
    "drive.mount('/content/drive', force_remount=True)"
   ]
  },
  {
   "cell_type": "code",
   "execution_count": 5,
   "metadata": {
    "colab": {
     "base_uri": "https://localhost:8080/",
     "height": 428
    },
    "executionInfo": {
     "elapsed": 2783,
     "status": "ok",
     "timestamp": 1604833912206,
     "user": {
      "displayName": "Bangda Zhou",
      "photoUrl": "https://lh3.googleusercontent.com/a-/AOh14GhXfpJ3TqGfKVLpDDP5vFqQdt_3AHl6d8MEJtH9nw=s64",
      "userId": "16045434051200219383"
     },
     "user_tz": -480
    },
    "id": "H3eypk2v5-Q1",
    "outputId": "d1581126-1305-463d-c664-ddd3d4321254"
   },
   "outputs": [
    {
     "data": {
      "text/html": [
       "<div>\n",
       "<style scoped>\n",
       "    .dataframe tbody tr th:only-of-type {\n",
       "        vertical-align: middle;\n",
       "    }\n",
       "\n",
       "    .dataframe tbody tr th {\n",
       "        vertical-align: top;\n",
       "    }\n",
       "\n",
       "    .dataframe thead th {\n",
       "        text-align: right;\n",
       "    }\n",
       "</style>\n",
       "<table border=\"1\" class=\"dataframe\">\n",
       "  <thead>\n",
       "    <tr style=\"text-align: right;\">\n",
       "      <th></th>\n",
       "      <th>id</th>\n",
       "      <th>comment_text</th>\n",
       "      <th>toxic</th>\n",
       "      <th>severe_toxic</th>\n",
       "      <th>obscene</th>\n",
       "      <th>threat</th>\n",
       "      <th>insult</th>\n",
       "      <th>identity_hate</th>\n",
       "      <th>word_count</th>\n",
       "      <th>char_count</th>\n",
       "      <th>word_density</th>\n",
       "      <th>total_length</th>\n",
       "      <th>capitals</th>\n",
       "      <th>capitals_prop</th>\n",
       "      <th>num_exclamation_marks</th>\n",
       "      <th>num_question_marks</th>\n",
       "      <th>num_punctuation</th>\n",
       "      <th>num_symbols</th>\n",
       "      <th>num_unique_words</th>\n",
       "      <th>prop_unique_words</th>\n",
       "      <th>processed_text</th>\n",
       "      <th>polarity</th>\n",
       "      <th>subjectivity</th>\n",
       "    </tr>\n",
       "  </thead>\n",
       "  <tbody>\n",
       "    <tr>\n",
       "      <th>0</th>\n",
       "      <td>0000997932d777bf</td>\n",
       "      <td>Explanation\\nWhy the edits made under my usern...</td>\n",
       "      <td>0</td>\n",
       "      <td>0</td>\n",
       "      <td>0</td>\n",
       "      <td>0</td>\n",
       "      <td>0</td>\n",
       "      <td>0</td>\n",
       "      <td>-0.244844</td>\n",
       "      <td>-0.211930</td>\n",
       "      <td>-0.493930</td>\n",
       "      <td>-0.220419</td>\n",
       "      <td>-0.001684</td>\n",
       "      <td>0.137612</td>\n",
       "      <td>-0.025544</td>\n",
       "      <td>0.346355</td>\n",
       "      <td>-0.154764</td>\n",
       "      <td>-0.107174</td>\n",
       "      <td>-0.130716</td>\n",
       "      <td>0.768622</td>\n",
       "      <td>explanation edits made username hardcore metal...</td>\n",
       "      <td>0.272671</td>\n",
       "      <td>0.262369</td>\n",
       "    </tr>\n",
       "    <tr>\n",
       "      <th>1</th>\n",
       "      <td>000103f0d9cfb60f</td>\n",
       "      <td>D'aww! He matches this background colour I'm s...</td>\n",
       "      <td>0</td>\n",
       "      <td>0</td>\n",
       "      <td>0</td>\n",
       "      <td>0</td>\n",
       "      <td>0</td>\n",
       "      <td>0</td>\n",
       "      <td>-0.506830</td>\n",
       "      <td>-0.471943</td>\n",
       "      <td>-0.930063</td>\n",
       "      <td>-0.477701</td>\n",
       "      <td>-0.094912</td>\n",
       "      <td>0.213387</td>\n",
       "      <td>0.013059</td>\n",
       "      <td>-0.282543</td>\n",
       "      <td>-0.233058</td>\n",
       "      <td>-0.107174</td>\n",
       "      <td>-0.571564</td>\n",
       "      <td>1.131563</td>\n",
       "      <td>daww match background colour seemingly stuck t...</td>\n",
       "      <td>0.535212</td>\n",
       "      <td>-0.674041</td>\n",
       "    </tr>\n",
       "    <tr>\n",
       "      <th>2</th>\n",
       "      <td>000113f07ec002fd</td>\n",
       "      <td>Hey man, I'm really not trying to edit war. It...</td>\n",
       "      <td>0</td>\n",
       "      <td>0</td>\n",
       "      <td>0</td>\n",
       "      <td>0</td>\n",
       "      <td>0</td>\n",
       "      <td>0</td>\n",
       "      <td>-0.254920</td>\n",
       "      <td>-0.274902</td>\n",
       "      <td>0.257890</td>\n",
       "      <td>-0.272891</td>\n",
       "      <td>-0.136347</td>\n",
       "      <td>-0.371094</td>\n",
       "      <td>-0.025544</td>\n",
       "      <td>-0.282543</td>\n",
       "      <td>-0.311352</td>\n",
       "      <td>-0.107174</td>\n",
       "      <td>-0.167453</td>\n",
       "      <td>0.574190</td>\n",
       "      <td>hey man really trying edit war guy constantly ...</td>\n",
       "      <td>0.328930</td>\n",
       "      <td>0.000397</td>\n",
       "    </tr>\n",
       "    <tr>\n",
       "      <th>3</th>\n",
       "      <td>0001b41b1c6bb37e</td>\n",
       "      <td>\"\\nMore\\nI can't make any real suggestions on ...</td>\n",
       "      <td>0</td>\n",
       "      <td>0</td>\n",
       "      <td>0</td>\n",
       "      <td>0</td>\n",
       "      <td>0</td>\n",
       "      <td>0</td>\n",
       "      <td>0.460504</td>\n",
       "      <td>0.373099</td>\n",
       "      <td>0.348351</td>\n",
       "      <td>0.385547</td>\n",
       "      <td>-0.063836</td>\n",
       "      <td>-0.365520</td>\n",
       "      <td>-0.025544</td>\n",
       "      <td>-0.282543</td>\n",
       "      <td>-0.154764</td>\n",
       "      <td>-0.107174</td>\n",
       "      <td>0.622401</td>\n",
       "      <td>-1.009142</td>\n",
       "      <td>ca nt make real suggestion improvement wondere...</td>\n",
       "      <td>0.466452</td>\n",
       "      <td>-0.316384</td>\n",
       "    </tr>\n",
       "    <tr>\n",
       "      <th>4</th>\n",
       "      <td>0001d958c54c6e35</td>\n",
       "      <td>You, sir, are my hero. Any chance you remember...</td>\n",
       "      <td>0</td>\n",
       "      <td>0</td>\n",
       "      <td>0</td>\n",
       "      <td>0</td>\n",
       "      <td>0</td>\n",
       "      <td>0</td>\n",
       "      <td>-0.547136</td>\n",
       "      <td>-0.553197</td>\n",
       "      <td>0.683628</td>\n",
       "      <td>-0.553870</td>\n",
       "      <td>-0.157064</td>\n",
       "      <td>-0.234474</td>\n",
       "      <td>-0.025544</td>\n",
       "      <td>0.346355</td>\n",
       "      <td>-0.389645</td>\n",
       "      <td>-0.107174</td>\n",
       "      <td>-0.645039</td>\n",
       "      <td>1.131563</td>\n",
       "      <td>sir hero chance remember page</td>\n",
       "      <td>-0.289916</td>\n",
       "      <td>-1.409792</td>\n",
       "    </tr>\n",
       "  </tbody>\n",
       "</table>\n",
       "</div>"
      ],
      "text/plain": [
       "                 id  ... subjectivity\n",
       "0  0000997932d777bf  ...     0.262369\n",
       "1  000103f0d9cfb60f  ...    -0.674041\n",
       "2  000113f07ec002fd  ...     0.000397\n",
       "3  0001b41b1c6bb37e  ...    -0.316384\n",
       "4  0001d958c54c6e35  ...    -1.409792\n",
       "\n",
       "[5 rows x 23 columns]"
      ]
     },
     "execution_count": 5,
     "metadata": {
      "tags": []
     },
     "output_type": "execute_result"
    }
   ],
   "source": [
    "dir = \"drive/My Drive/BT4221/Data/\"\n",
    "df = pd.read_csv(dir+\"cleaned_train_v1.csv\")\n",
    "df = df.drop('Unnamed: 0', 1)\n",
    "df.head()"
   ]
  },
  {
   "cell_type": "code",
   "execution_count": 6,
   "metadata": {
    "executionInfo": {
     "elapsed": 748,
     "status": "ok",
     "timestamp": 1604833914521,
     "user": {
      "displayName": "Bangda Zhou",
      "photoUrl": "https://lh3.googleusercontent.com/a-/AOh14GhXfpJ3TqGfKVLpDDP5vFqQdt_3AHl6d8MEJtH9nw=s64",
      "userId": "16045434051200219383"
     },
     "user_tz": -480
    },
    "id": "YxR177x2T8JR"
   },
   "outputs": [],
   "source": [
    "## split dataset\n",
    "train, test = train_test_split(df, test_size=0.2, random_state=1234)\n",
    "\n",
    "X_train = train[\"processed_text\"]\n",
    "X_test = test[\"processed_text\"]\n",
    "y_train = train[[\"toxic\", \"severe_toxic\", \"obscene\", \"threat\", \"insult\", \"identity_hate\"]].values\n",
    "y_test = test[[\"toxic\", \"severe_toxic\", \"obscene\", \"threat\", \"insult\", \"identity_hate\"]].values\n",
    "\n",
    "# Add feature engineering\n",
    "features = train.iloc[:, 9:24].drop(columns=['processed_text'])\n",
    "test_features = test.iloc[:, 9:24].drop(columns=['processed_text'])"
   ]
  },
  {
   "cell_type": "code",
   "execution_count": 7,
   "metadata": {
    "executionInfo": {
     "elapsed": 9651,
     "status": "ok",
     "timestamp": 1604833926270,
     "user": {
      "displayName": "Bangda Zhou",
      "photoUrl": "https://lh3.googleusercontent.com/a-/AOh14GhXfpJ3TqGfKVLpDDP5vFqQdt_3AHl6d8MEJtH9nw=s64",
      "userId": "16045434051200219383"
     },
     "user_tz": -480
    },
    "id": "LlOAesMiXBCx"
   },
   "outputs": [],
   "source": [
    "tokenizer = Tokenizer(num_words=5000)\n",
    "tokenizer.fit_on_texts(X_train)\n",
    "\n",
    "X_train = tokenizer.texts_to_sequences(X_train)\n",
    "X_test = tokenizer.texts_to_sequences(X_test)\n",
    "\n",
    "vocab_size = len(tokenizer.word_index) + 1\n",
    "maxlen = 200\n",
    "\n",
    "X_train = pad_sequences(X_train, padding='post', maxlen=maxlen)\n",
    "X_test = pad_sequences(X_test, padding='post', maxlen=maxlen)"
   ]
  },
  {
   "cell_type": "code",
   "execution_count": 8,
   "metadata": {
    "executionInfo": {
     "elapsed": 77378,
     "status": "ok",
     "timestamp": 1604833999113,
     "user": {
      "displayName": "Bangda Zhou",
      "photoUrl": "https://lh3.googleusercontent.com/a-/AOh14GhXfpJ3TqGfKVLpDDP5vFqQdt_3AHl6d8MEJtH9nw=s64",
      "userId": "16045434051200219383"
     },
     "user_tz": -480
    },
    "id": "FKdFtNF9d4Oh"
   },
   "outputs": [],
   "source": [
    "embeddings_dictionary = dict()\n",
    "path = \"drive/My Drive/BT4221/Scripts/transformer/\"\n",
    "glove_file = open(path + 'glove.twitter.27B.200d.txt', encoding=\"utf8\")\n",
    "\n",
    "for line in glove_file:\n",
    "    records = line.split()\n",
    "    word = records[0]\n",
    "    vector_dimensions = asarray(records[1:], dtype='float32')\n",
    "    embeddings_dictionary[word] = vector_dimensions\n",
    "glove_file.close()\n",
    "\n",
    "embedding_matrix = zeros((vocab_size, 200))\n",
    "for word, index in tokenizer.word_index.items():\n",
    "    embedding_vector = embeddings_dictionary.get(word)\n",
    "    if embedding_vector is not None:\n",
    "        embedding_matrix[index] = embedding_vector"
   ]
  },
  {
   "cell_type": "code",
   "execution_count": 12,
   "metadata": {
    "executionInfo": {
     "elapsed": 1488,
     "status": "ok",
     "timestamp": 1604834192779,
     "user": {
      "displayName": "Bangda Zhou",
      "photoUrl": "https://lh3.googleusercontent.com/a-/AOh14GhXfpJ3TqGfKVLpDDP5vFqQdt_3AHl6d8MEJtH9nw=s64",
      "userId": "16045434051200219383"
     },
     "user_tz": -480
    },
    "id": "elL8lbaVXBFX"
   },
   "outputs": [],
   "source": [
    "def get_model(features):\n",
    "    features_input = Input(shape=(features.shape[1],))\n",
    "    inp = Input(shape=(maxlen, ))\n",
    "    \n",
    "    # Layer 1: Embedding Layer\n",
    "    x = Embedding(vocab_size, 200, weights=[embedding_matrix], trainable=False)(inp)\n",
    "\n",
    "    # Layer 2: Bidirectional LSTM\n",
    "    x = Bidirectional(LSTM(50, return_sequences=True, dropout=0.1, recurrent_dropout=0.1))(x)\n",
    "\n",
    "    # Layer 3: A concatenation of maximum pool and engineered features\n",
    "    max_pool = GlobalMaxPooling1D()(x)\n",
    "    x = concatenate([max_pool, features_input])\n",
    "    x = BatchNormalization()(x)\n",
    "\n",
    "    x = Dense(50, activation=\"relu\")(x)\n",
    "    x = Dropout(0.1)(x)\n",
    "    \n",
    "    # Output dense layer.\n",
    "    outp = Dense(6, activation=\"sigmoid\")(x)\n",
    "\n",
    "    model = Model(inputs=[inp,features_input], outputs=outp)\n",
    "    model.compile(loss='binary_crossentropy',\n",
    "                  optimizer='adam',\n",
    "                  metrics=['accuracy'])\n",
    "    return model\n",
    "\n",
    "model = get_model(features)\n"
   ]
  },
  {
   "cell_type": "code",
   "execution_count": 13,
   "metadata": {
    "colab": {
     "base_uri": "https://localhost:8080/",
     "height": 856
    },
    "executionInfo": {
     "elapsed": 1230,
     "status": "ok",
     "timestamp": 1604834196556,
     "user": {
      "displayName": "Bangda Zhou",
      "photoUrl": "https://lh3.googleusercontent.com/a-/AOh14GhXfpJ3TqGfKVLpDDP5vFqQdt_3AHl6d8MEJtH9nw=s64",
      "userId": "16045434051200219383"
     },
     "user_tz": -480
    },
    "id": "jIcktbo8BUXg",
    "outputId": "25793799-8266-47f4-f492-e332cfb47d50"
   },
   "outputs": [
    {
     "data": {
      "image/png": "[encoded data removed]",
      "text/plain": [
       "<IPython.core.display.Image object>"
      ]
     },
     "execution_count": 13,
     "metadata": {
      "tags": []
     },
     "output_type": "execute_result"
    }
   ],
   "source": [
    "keras.utils.plot_model(model)"
   ]
  },
  {
   "cell_type": "code",
   "execution_count": 14,
   "metadata": {
    "executionInfo": {
     "elapsed": 841,
     "status": "ok",
     "timestamp": 1604834211828,
     "user": {
      "displayName": "Bangda Zhou",
      "photoUrl": "https://lh3.googleusercontent.com/a-/AOh14GhXfpJ3TqGfKVLpDDP5vFqQdt_3AHl6d8MEJtH9nw=s64",
      "userId": "16045434051200219383"
     },
     "user_tz": -480
    },
    "id": "Je0spvQ5VNdn"
   },
   "outputs": [],
   "source": [
    "saved_model = \"/content/drive/My Drive/BT4221/Models/Bi-LSTM_GloVe_FE.best.hdf5\"\n",
    "checkpoint = ModelCheckpoint(saved_model, monitor='val_accuracy', verbose=1, save_best_only=True, mode='max')\n",
    "early = EarlyStopping(monitor=\"val_accuracy\", mode=\"max\", patience=5)\n",
    "callbacks_list = [checkpoint, early]"
   ]
  },
  {
   "cell_type": "code",
   "execution_count": 15,
   "metadata": {
    "colab": {
     "base_uri": "https://localhost:8080/"
    },
    "executionInfo": {
     "elapsed": 3099821,
     "status": "ok",
     "timestamp": 1604837313948,
     "user": {
      "displayName": "Bangda Zhou",
      "photoUrl": "https://lh3.googleusercontent.com/a-/AOh14GhXfpJ3TqGfKVLpDDP5vFqQdt_3AHl6d8MEJtH9nw=s64",
      "userId": "16045434051200219383"
     },
     "user_tz": -480
    },
    "id": "OuuqSzkPe4an",
    "outputId": "904a609f-f82a-4289-a3fb-eb538cd9a395"
   },
   "outputs": [
    {
     "name": "stdout",
     "output_type": "stream",
     "text": [
      "Epoch 1/3\n",
      "798/798 [==============================] - ETA: 0s - loss: 0.0875 - accuracy: 0.6026\n",
      "Epoch 00001: val_accuracy improved from -inf to 0.82054, saving model to /content/drive/My Drive/BT4221/Models/Bi-LSTM_GloVe_FE.best.hdf5\n",
      "798/798 [==============================] - 1028s 1s/step - loss: 0.0875 - accuracy: 0.6026 - val_loss: 0.0555 - val_accuracy: 0.8205\n",
      "Epoch 2/3\n",
      "798/798 [==============================] - ETA: 0s - loss: 0.0514 - accuracy: 0.7962\n",
      "Epoch 00002: val_accuracy improved from 0.82054 to 0.98288, saving model to /content/drive/My Drive/BT4221/Models/Bi-LSTM_GloVe_FE.best.hdf5\n",
      "798/798 [==============================] - 1032s 1s/step - loss: 0.0514 - accuracy: 0.7962 - val_loss: 0.0516 - val_accuracy: 0.9829\n",
      "Epoch 3/3\n",
      "798/798 [==============================] - ETA: 0s - loss: 0.0476 - accuracy: 0.8574\n",
      "Epoch 00003: val_accuracy did not improve from 0.98288\n",
      "798/798 [==============================] - 1030s 1s/step - loss: 0.0476 - accuracy: 0.8574 - val_loss: 0.0506 - val_accuracy: 0.8916\n"
     ]
    }
   ],
   "source": [
    "history = model.fit([X_train,features], y_train, epochs = 3, batch_size=128, validation_split=0.2, callbacks=callbacks_list)"
   ]
  },
  {
   "cell_type": "code",
   "execution_count": null,
   "metadata": {
    "colab": {
     "base_uri": "https://localhost:8080/"
    },
    "executionInfo": {
     "elapsed": 42351,
     "status": "ok",
     "timestamp": 1604816591645,
     "user": {
      "displayName": "Bangda Zhou",
      "photoUrl": "https://lh3.googleusercontent.com/a-/AOh14GhXfpJ3TqGfKVLpDDP5vFqQdt_3AHl6d8MEJtH9nw=s64",
      "userId": "16045434051200219383"
     },
     "user_tz": -480
    },
    "id": "harh5qwCe4Y4",
    "outputId": "19bd33fe-f68d-440e-bb09-b392eb1c64c4"
   },
   "outputs": [
    {
     "name": "stdout",
     "output_type": "stream",
     "text": [
      "997/997 [==============================] - 42s 42ms/step - loss: 0.0498 - accuracy: 0.9399\n",
      "Test Score: 0.049755483865737915\n",
      "Test Accuracy: 0.9399392008781433\n"
     ]
    }
   ],
   "source": [
    "score = model.evaluate([X_test, test_features], y_test, verbose=1)\n",
    "\n",
    "print(\"Test Score:\", score[0])\n",
    "print(\"Test Accuracy:\", score[1])"
   ]
  },
  {
   "cell_type": "code",
   "execution_count": 17,
   "metadata": {
    "executionInfo": {
     "elapsed": 1786,
     "status": "ok",
     "timestamp": 1604838436773,
     "user": {
      "displayName": "Bangda Zhou",
      "photoUrl": "https://lh3.googleusercontent.com/a-/AOh14GhXfpJ3TqGfKVLpDDP5vFqQdt_3AHl6d8MEJtH9nw=s64",
      "userId": "16045434051200219383"
     },
     "user_tz": -480
    },
    "id": "Me9J6qCymKr-"
   },
   "outputs": [],
   "source": [
    "model.save('/content/drive/My Drive/BT4221/Models/GloVe_Bi_LSTM_FE.keras')"
   ]
  },
  {
   "cell_type": "code",
   "execution_count": 18,
   "metadata": {
    "executionInfo": {
     "elapsed": 1664,
     "status": "ok",
     "timestamp": 1604838440296,
     "user": {
      "displayName": "Bangda Zhou",
      "photoUrl": "https://lh3.googleusercontent.com/a-/AOh14GhXfpJ3TqGfKVLpDDP5vFqQdt_3AHl6d8MEJtH9nw=s64",
      "userId": "16045434051200219383"
     },
     "user_tz": -480
    },
    "id": "ymvEl5iWbTIx"
   },
   "outputs": [],
   "source": [
    "model = keras.models.load_model('/content/drive/My Drive/BT4221/Models/GloVe_Bi_LSTM_FE.keras')"
   ]
  },
  {
   "cell_type": "code",
   "execution_count": 19,
   "metadata": {
    "executionInfo": {
     "elapsed": 69969,
     "status": "ok",
     "timestamp": 1604838512087,
     "user": {
      "displayName": "Bangda Zhou",
      "photoUrl": "https://lh3.googleusercontent.com/a-/AOh14GhXfpJ3TqGfKVLpDDP5vFqQdt_3AHl6d8MEJtH9nw=s64",
      "userId": "16045434051200219383"
     },
     "user_tz": -480
    },
    "id": "fOm_ez5vwdui"
   },
   "outputs": [],
   "source": [
    "y_pred = model.predict([X_test, test_features])"
   ]
  },
  {
   "cell_type": "code",
   "execution_count": 20,
   "metadata": {
    "colab": {
     "base_uri": "https://localhost:8080/"
    },
    "executionInfo": {
     "elapsed": 69856,
     "status": "ok",
     "timestamp": 1604838515023,
     "user": {
      "displayName": "Bangda Zhou",
      "photoUrl": "https://lh3.googleusercontent.com/a-/AOh14GhXfpJ3TqGfKVLpDDP5vFqQdt_3AHl6d8MEJtH9nw=s64",
      "userId": "16045434051200219383"
     },
     "user_tz": -480
    },
    "id": "AQI4WD2y2JgW",
    "outputId": "71966030-2243-4fac-db3c-2e0f5333061e"
   },
   "outputs": [
    {
     "name": "stdout",
     "output_type": "stream",
     "text": [
      "Threshold=0.5700000000000001, Min Hamming Loss=0.01764312508489807, F1-score = 0.48195483618741514\n",
      "Threshold=0.26, Max F1-score=0.608271349241992, Hamming Loss = 0.021551048556471584\n"
     ]
    }
   ],
   "source": [
    "thresholds = np.arange(0, 1, 0.01)\n",
    "\n",
    "def to_labels(pos_probs, threshold):\n",
    "\treturn (pos_probs >= threshold).astype('int')\n",
    " \n",
    "predictions = y_pred\n",
    "# evaluate each threshold\n",
    "scores_hl = [hamming_loss(y_test, to_labels(predictions, t)) for t in thresholds]\n",
    "scores_f1 = [f1_score(y_test, to_labels(predictions, t), average = \"macro\") for t in thresholds]\n",
    "\n",
    "# get best threshold\n",
    "ix_hl = np.argmin(scores_hl)\n",
    "print('Threshold={}, Min Hamming Loss={}, F1-score = {}'.format(thresholds[ix_hl], scores_hl[ix_hl], scores_f1[ix_hl]))\n",
    "\n",
    "ix_f1 = np.argmax(scores_f1)\n",
    "print('Threshold={}, Max F1-score={}, Hamming Loss = {}'.format(thresholds[ix_f1], scores_f1[ix_f1], scores_hl[ix_f1]))"
   ]
  },
  {
   "cell_type": "code",
   "execution_count": 21,
   "metadata": {
    "colab": {
     "base_uri": "https://localhost:8080/"
    },
    "executionInfo": {
     "elapsed": 753,
     "status": "ok",
     "timestamp": 1604839317500,
     "user": {
      "displayName": "Bangda Zhou",
      "photoUrl": "https://lh3.googleusercontent.com/a-/AOh14GhXfpJ3TqGfKVLpDDP5vFqQdt_3AHl6d8MEJtH9nw=s64",
      "userId": "16045434051200219383"
     },
     "user_tz": -480
    },
    "id": "xvC7lc3bydBF",
    "outputId": "bc6b79ce-9862-42b3-b7b7-26d37ee352f2"
   },
   "outputs": [
    {
     "name": "stdout",
     "output_type": "stream",
     "text": [
      "0.26\n",
      "0.021551048556471584\n"
     ]
    }
   ],
   "source": [
    "# convert float to binary integer\n",
    "predictions = y_pred\n",
    "thresholds = [0.26]\n",
    "for val in thresholds:\n",
    "  y_pred_copy=predictions.copy()\n",
    "\n",
    "  y_pred_copy[y_pred_copy>=val]=1\n",
    "  y_pred_copy[y_pred_copy<val]=0\n",
    "  print(val)\n",
    "  print(hamming_loss(y_test, y_pred_copy))\n",
    "\n"
   ]
  },
  {
   "cell_type": "code",
   "execution_count": 22,
   "metadata": {
    "executionInfo": {
     "elapsed": 822,
     "status": "ok",
     "timestamp": 1604839323749,
     "user": {
      "displayName": "Bangda Zhou",
      "photoUrl": "https://lh3.googleusercontent.com/a-/AOh14GhXfpJ3TqGfKVLpDDP5vFqQdt_3AHl6d8MEJtH9nw=s64",
      "userId": "16045434051200219383"
     },
     "user_tz": -480
    },
    "id": "9I0jaVHs4LJI"
   },
   "outputs": [],
   "source": [
    "# generate mulilabel confusion matrix\n",
    "cm = multilabel_confusion_matrix(y_test, y_pred_copy)"
   ]
  },
  {
   "cell_type": "code",
   "execution_count": 23,
   "metadata": {
    "executionInfo": {
     "elapsed": 737,
     "status": "ok",
     "timestamp": 1604839325503,
     "user": {
      "displayName": "Bangda Zhou",
      "photoUrl": "https://lh3.googleusercontent.com/a-/AOh14GhXfpJ3TqGfKVLpDDP5vFqQdt_3AHl6d8MEJtH9nw=s64",
      "userId": "16045434051200219383"
     },
     "user_tz": -480
    },
    "id": "Pmlo1FrvbMFW"
   },
   "outputs": [],
   "source": [
    "def precision_recall(cmat): \n",
    "    tp = cmat[1][1] \n",
    "    fp = cmat[1][0] \n",
    "    fn = cmat[0][1] \n",
    "    tn = cmat[0][0] \n",
    "    return tp/(tp+fp), tp/(tp+fn)\n",
    "\n",
    "def print_confusion_matrix(confusion_matrix, axes, class_label, class_names, fontsize=14):\n",
    "    #compute tp, tp_and_fn and tp_and_fp w.r.t all classes\n",
    "    precision, recall = precision_recall(confusion_matrix)\n",
    "\n",
    "    df_cm = pd.DataFrame(\n",
    "        confusion_matrix, index=class_names, columns=class_names,\n",
    "    )\n",
    "\n",
    "    try:\n",
    "        heatmap = sns.heatmap(df_cm, annot=True, cmap=\"YlGnBu\", fmt=\"d\", cbar=False, ax=axes)\n",
    "    except ValueError:\n",
    "        raise ValueError(\"Confusion matrix values must be integers.\")\n",
    "    heatmap.yaxis.set_ticklabels(heatmap.yaxis.get_ticklabels(), rotation=0, ha='right', fontsize=fontsize)\n",
    "    heatmap.xaxis.set_ticklabels(heatmap.xaxis.get_ticklabels(), rotation=45, ha='right', fontsize=fontsize)\n",
    "    axes.set_xlabel('True label')\n",
    "    axes.set_ylabel('Predicted label')\n",
    "    axes.set_title(\"Confusion Matrix for the class - \" + class_label)\n",
    "\n",
    "    print(class_label)\n",
    "    print('Precision: {}'.format(precision))\n",
    "    print('Recall: {}'.format(recall))\n",
    "    print()"
   ]
  },
  {
   "cell_type": "code",
   "execution_count": 27,
   "metadata": {
    "executionInfo": {
     "elapsed": 753,
     "status": "ok",
     "timestamp": 1604839378508,
     "user": {
      "displayName": "Bangda Zhou",
      "photoUrl": "https://lh3.googleusercontent.com/a-/AOh14GhXfpJ3TqGfKVLpDDP5vFqQdt_3AHl6d8MEJtH9nw=s64",
      "userId": "16045434051200219383"
     },
     "user_tz": -480
    },
    "id": "2TPK9fpD4O1Q"
   },
   "outputs": [],
   "source": [
    "labels = ['toxic', 'severe_toxic', 'obscene', 'threat', 'insult', 'identity_hate']\n"
   ]
  },
  {
   "cell_type": "code",
   "execution_count": 28,
   "metadata": {
    "colab": {
     "base_uri": "https://localhost:8080/",
     "height": 921
    },
    "executionInfo": {
     "elapsed": 1883,
     "status": "ok",
     "timestamp": 1604839383126,
     "user": {
      "displayName": "Bangda Zhou",
      "photoUrl": "https://lh3.googleusercontent.com/a-/AOh14GhXfpJ3TqGfKVLpDDP5vFqQdt_3AHl6d8MEJtH9nw=s64",
      "userId": "16045434051200219383"
     },
     "user_tz": -480
    },
    "id": "sD2V3t0F6PT-",
    "outputId": "a530a935-6103-45bb-8eab-7327653fbded"
   },
   "outputs": [
    {
     "name": "stdout",
     "output_type": "stream",
     "text": [
      "toxic\n",
      "Precision: 0.8029243483788938\n",
      "Recall: 0.7661510464058234\n",
      "\n",
      "severe_toxic\n",
      "Precision: 0.5362776025236593\n",
      "Recall: 0.4156479217603912\n",
      "\n",
      "obscene\n",
      "Precision: 0.88558352402746\n",
      "Recall: 0.7130354675264855\n",
      "\n",
      "threat\n",
      "Precision: 0.3854166666666667\n",
      "Recall: 0.4457831325301205\n",
      "\n",
      "insult\n",
      "Precision: 0.8434946574481458\n",
      "Recall: 0.5999105945462673\n",
      "\n",
      "identity_hate\n",
      "Precision: 0.47183098591549294\n",
      "Recall: 0.5153846153846153\n",
      "\n"
     ]
    },
    {
     "data": {
      "image/png": "[encoded data removed]",
      "text/plain": [
       "<Figure size 864x504 with 6 Axes>"
      ]
     },
     "metadata": {
      "needs_background": "light",
      "tags": []
     },
     "output_type": "display_data"
    }
   ],
   "source": [
    "# use threshold 0.26\n",
    "fig, ax = plt.subplots(3, 2, figsize=(12, 7))\n",
    "    \n",
    "for axes, cfs_matrix, label in zip(ax.flatten(), cm, labels):\n",
    "\n",
    "  print_confusion_matrix(cfs_matrix, axes, label, [\"N\", \"Y\"])\n",
    "\n",
    "fig.tight_layout()\n",
    "plt.show()  "
   ]
  },
  {
   "cell_type": "code",
   "execution_count": null,
   "metadata": {
    "colab": {
     "base_uri": "https://localhost:8080/",
     "height": 921
    },
    "executionInfo": {
     "elapsed": 2189,
     "status": "ok",
     "timestamp": 1604772388019,
     "user": {
      "displayName": "Bangda Zhou",
      "photoUrl": "https://lh3.googleusercontent.com/a-/AOh14GhXfpJ3TqGfKVLpDDP5vFqQdt_3AHl6d8MEJtH9nw=s64",
      "userId": "16045434051200219383"
     },
     "user_tz": -480
    },
    "id": "3jJvqbfJ4wZb",
    "outputId": "0e577d3e-91cf-462c-8ce0-6662f230542d"
   },
   "outputs": [
    {
     "name": "stdout",
     "output_type": "stream",
     "text": [
      "toxic\n",
      "Precision: 0.7116973935155754\n",
      "Recall: 0.8718847352024922\n",
      "\n",
      "severe_toxic\n",
      "Precision: 0.12933753943217666\n",
      "Recall: 0.5694444444444444\n",
      "\n",
      "obscene\n",
      "Precision: 0.7488558352402745\n",
      "Recall: 0.870345744680851\n",
      "\n",
      "threat\n",
      "Precision: 0.16666666666666666\n",
      "Recall: 0.5925925925925926\n",
      "\n",
      "insult\n",
      "Precision: 0.700188560653677\n",
      "Recall: 0.7319316688567674\n",
      "\n",
      "identity_hate\n",
      "Precision: 0.2746478873239437\n",
      "Recall: 0.6554621848739496\n",
      "\n"
     ]
    },
    {
     "data": {
      "image/png": "[encoded data removed]",
      "text/plain": [
       "<Figure size 864x504 with 6 Axes>"
      ]
     },
     "metadata": {
      "needs_background": "light",
      "tags": []
     },
     "output_type": "display_data"
    }
   ],
   "source": [
    "# use threshold 0.42\n",
    "fig, ax = plt.subplots(3, 2, figsize=(12, 7))\n",
    "    \n",
    "for axes, cfs_matrix, label in zip(ax.flatten(), cm, labels):\n",
    "\n",
    "  print_confusion_matrix(cfs_matrix, axes, label, [\"N\", \"Y\"])\n",
    "\n",
    "fig.tight_layout()\n",
    "plt.show()  "
   ]
  },
  {
   "cell_type": "code",
   "execution_count": null,
   "metadata": {
    "colab": {
     "base_uri": "https://localhost:8080/",
     "height": 921
    },
    "executionInfo": {
     "elapsed": 1997,
     "status": "ok",
     "timestamp": 1604742608959,
     "user": {
      "displayName": "Bangda Zhou",
      "photoUrl": "https://lh3.googleusercontent.com/a-/AOh14GhXfpJ3TqGfKVLpDDP5vFqQdt_3AHl6d8MEJtH9nw=s64",
      "userId": "16045434051200219383"
     },
     "user_tz": -480
    },
    "id": "pMUsmbot7TB9",
    "outputId": "b5145165-c585-4bac-d6b4-565d2914bd35"
   },
   "outputs": [
    {
     "name": "stdout",
     "output_type": "stream",
     "text": [
      "toxic\n",
      "Precision: 0.9918970613806295\n",
      "Recall: 0.965669014084507\n",
      "\n",
      "severe_toxic\n",
      "Precision: 0.9998100303951368\n",
      "Recall: 0.9905269761606023\n",
      "\n",
      "obscene\n",
      "Precision: 0.9949922064139555\n",
      "Recall: 0.9835108998524832\n",
      "\n",
      "threat\n",
      "Precision: 0.9997484672221348\n",
      "Recall: 0.997396486825596\n",
      "\n",
      "insult\n",
      "Precision: 0.9893434510062685\n",
      "Recall: 0.9815711947626842\n",
      "\n",
      "identity_hate\n",
      "Precision: 0.9993358003605656\n",
      "Recall: 0.9927732042983723\n",
      "\n"
     ]
    },
    {
     "data": {
      "image/png": "[encoded data removed]",
      "text/plain": [
       "<Figure size 864x504 with 6 Axes>"
      ]
     },
     "metadata": {
      "needs_background": "light",
      "tags": []
     },
     "output_type": "display_data"
    }
   ],
   "source": [
    "# use threshold 0.5\n",
    "fig, ax = plt.subplots(3, 2, figsize=(12, 7))\n",
    "    \n",
    "for axes, cfs_matrix, label in zip(ax.flatten(), cm, labels):\n",
    "\n",
    "  print_confusion_matrix(cfs_matrix, axes, label, [\"Y\", \"N\"])\n",
    "\n",
    "fig.tight_layout()\n",
    "plt.show()  "
   ]
  },
  {
   "cell_type": "code",
   "execution_count": null,
   "metadata": {
    "id": "IhspdyQ3Qph9"
   },
   "outputs": [],
   "source": []
  }
 ],
 "metadata": {
  "accelerator": "TPU",
  "colab": {
   "collapsed_sections": [],
   "name": "WordEmbedding (GolVe) with Bi-LSTM and Feature Engineering.ipynb",
   "provenance": [
    {
     "file_id": "1kzZRtnjPl5jIMW2M2vwA7Spl7-AN36Ed",
     "timestamp": 1604833592764
    },
    {
     "file_id": "1xvktYxOruFpRQ-89-H1CSdCMlhuLRz8r",
     "timestamp": 1604812888074
    },
    {
     "file_id": "1-ggL2tWk6yoYmH801NjJ93zsf-c-NgR2",
     "timestamp": 1604554109398
    }
   ]
  },
  "kernelspec": {
   "display_name": "Python 3",
   "language": "python",
   "name": "python3"
  },
  "language_info": {
   "codemirror_mode": {
    "name": "ipython",
    "version": 3
   },
   "file_extension": ".py",
   "mimetype": "text/x-python",
   "name": "python",
   "nbconvert_exporter": "python",
   "pygments_lexer": "ipython3",
   "version": "3.8.3"
  }
 },
 "nbformat": 4,
 "nbformat_minor": 1
}
