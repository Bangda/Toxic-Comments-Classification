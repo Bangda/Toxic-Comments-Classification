{
 "cells": [
  {
   "cell_type": "code",
   "execution_count": 1,
   "metadata": {
    "executionInfo": {
     "elapsed": 5473,
     "status": "ok",
     "timestamp": 1606548367811,
     "user": {
      "displayName": "Bangda Zhou",
      "photoUrl": "https://lh3.googleusercontent.com/a-/AOh14GhXfpJ3TqGfKVLpDDP5vFqQdt_3AHl6d8MEJtH9nw=s64",
      "userId": "16045434051200219383"
     },
     "user_tz": -480
    },
    "id": "ov1p0Nj0kEIu"
   },
   "outputs": [],
   "source": [
    "from numpy import array\n",
    "from numpy import asarray\n",
    "from numpy import zeros\n",
    "\n",
    "import keras\n",
    "from keras.preprocessing.text import one_hot\n",
    "from keras.preprocessing.sequence import pad_sequences\n",
    "from keras.models import Sequential\n",
    "from keras.layers.core import Activation, Dropout, Dense\n",
    "from keras.layers import Flatten, LSTM\n",
    "from keras.layers import Bidirectional, GlobalMaxPool1D, BatchNormalization\n",
    "from keras.models import Model\n",
    "from keras.layers.embeddings import Embedding\n",
    "from sklearn.model_selection import train_test_split\n",
    "from keras.preprocessing.text import Tokenizer\n",
    "from keras.layers import Input\n",
    "from keras.layers.merge import Concatenate\n",
    "from sklearn.metrics import multilabel_confusion_matrix, hamming_loss, f1_score\n",
    "\n",
    "import pandas as pd\n",
    "import numpy as np\n",
    "import re\n",
    "import seaborn as sns\n",
    "import matplotlib.pyplot as plt"
   ]
  },
  {
   "cell_type": "code",
   "execution_count": 2,
   "metadata": {
    "colab": {
     "base_uri": "https://localhost:8080/"
    },
    "executionInfo": {
     "elapsed": 22705,
     "status": "ok",
     "timestamp": 1606548385052,
     "user": {
      "displayName": "Bangda Zhou",
      "photoUrl": "https://lh3.googleusercontent.com/a-/AOh14GhXfpJ3TqGfKVLpDDP5vFqQdt_3AHl6d8MEJtH9nw=s64",
      "userId": "16045434051200219383"
     },
     "user_tz": -480
    },
    "id": "vT2eYMS151X8",
    "outputId": "facc18cc-b76e-4ae1-f4b7-87989d039397"
   },
   "outputs": [
    {
     "name": "stdout",
     "output_type": "stream",
     "text": [
      "Mounted at /content/drive\n"
     ]
    }
   ],
   "source": [
    "# Mount Drive\n",
    "from google.colab import drive\n",
    "drive.mount('/content/drive', force_remount=True)"
   ]
  },
  {
   "cell_type": "code",
   "execution_count": 3,
   "metadata": {
    "colab": {
     "base_uri": "https://localhost:8080/",
     "height": 428
    },
    "executionInfo": {
     "elapsed": 26288,
     "status": "ok",
     "timestamp": 1606548388641,
     "user": {
      "displayName": "Bangda Zhou",
      "photoUrl": "https://lh3.googleusercontent.com/a-/AOh14GhXfpJ3TqGfKVLpDDP5vFqQdt_3AHl6d8MEJtH9nw=s64",
      "userId": "16045434051200219383"
     },
     "user_tz": -480
    },
    "id": "H3eypk2v5-Q1",
    "outputId": "f34ad2ee-f2eb-4f9e-d512-970cad5adb2a"
   },
   "outputs": [
    {
     "data": {
      "text/html": [
       "<div>\n",
       "<style scoped>\n",
       "    .dataframe tbody tr th:only-of-type {\n",
       "        vertical-align: middle;\n",
       "    }\n",
       "\n",
       "    .dataframe tbody tr th {\n",
       "        vertical-align: top;\n",
       "    }\n",
       "\n",
       "    .dataframe thead th {\n",
       "        text-align: right;\n",
       "    }\n",
       "</style>\n",
       "<table border=\"1\" class=\"dataframe\">\n",
       "  <thead>\n",
       "    <tr style=\"text-align: right;\">\n",
       "      <th></th>\n",
       "      <th>id</th>\n",
       "      <th>comment_text</th>\n",
       "      <th>toxic</th>\n",
       "      <th>severe_toxic</th>\n",
       "      <th>obscene</th>\n",
       "      <th>threat</th>\n",
       "      <th>insult</th>\n",
       "      <th>identity_hate</th>\n",
       "      <th>word_count</th>\n",
       "      <th>char_count</th>\n",
       "      <th>word_density</th>\n",
       "      <th>total_length</th>\n",
       "      <th>capitals</th>\n",
       "      <th>capitals_prop</th>\n",
       "      <th>num_exclamation_marks</th>\n",
       "      <th>num_question_marks</th>\n",
       "      <th>num_punctuation</th>\n",
       "      <th>num_symbols</th>\n",
       "      <th>num_unique_words</th>\n",
       "      <th>prop_unique_words</th>\n",
       "      <th>processed_text</th>\n",
       "      <th>polarity</th>\n",
       "      <th>subjectivity</th>\n",
       "    </tr>\n",
       "  </thead>\n",
       "  <tbody>\n",
       "    <tr>\n",
       "      <th>0</th>\n",
       "      <td>0000997932d777bf</td>\n",
       "      <td>Explanation\\nWhy the edits made under my usern...</td>\n",
       "      <td>0</td>\n",
       "      <td>0</td>\n",
       "      <td>0</td>\n",
       "      <td>0</td>\n",
       "      <td>0</td>\n",
       "      <td>0</td>\n",
       "      <td>-0.244844</td>\n",
       "      <td>-0.211930</td>\n",
       "      <td>-0.493930</td>\n",
       "      <td>-0.220419</td>\n",
       "      <td>-0.001684</td>\n",
       "      <td>0.137612</td>\n",
       "      <td>-0.025544</td>\n",
       "      <td>0.346355</td>\n",
       "      <td>-0.154764</td>\n",
       "      <td>-0.107174</td>\n",
       "      <td>-0.130716</td>\n",
       "      <td>0.768622</td>\n",
       "      <td>explanation edits made username hardcore metal...</td>\n",
       "      <td>0.272671</td>\n",
       "      <td>0.262369</td>\n",
       "    </tr>\n",
       "    <tr>\n",
       "      <th>1</th>\n",
       "      <td>000103f0d9cfb60f</td>\n",
       "      <td>D'aww! He matches this background colour I'm s...</td>\n",
       "      <td>0</td>\n",
       "      <td>0</td>\n",
       "      <td>0</td>\n",
       "      <td>0</td>\n",
       "      <td>0</td>\n",
       "      <td>0</td>\n",
       "      <td>-0.506830</td>\n",
       "      <td>-0.471943</td>\n",
       "      <td>-0.930063</td>\n",
       "      <td>-0.477701</td>\n",
       "      <td>-0.094912</td>\n",
       "      <td>0.213387</td>\n",
       "      <td>0.013059</td>\n",
       "      <td>-0.282543</td>\n",
       "      <td>-0.233058</td>\n",
       "      <td>-0.107174</td>\n",
       "      <td>-0.571564</td>\n",
       "      <td>1.131563</td>\n",
       "      <td>daww match background colour seemingly stuck t...</td>\n",
       "      <td>0.535212</td>\n",
       "      <td>-0.674041</td>\n",
       "    </tr>\n",
       "    <tr>\n",
       "      <th>2</th>\n",
       "      <td>000113f07ec002fd</td>\n",
       "      <td>Hey man, I'm really not trying to edit war. It...</td>\n",
       "      <td>0</td>\n",
       "      <td>0</td>\n",
       "      <td>0</td>\n",
       "      <td>0</td>\n",
       "      <td>0</td>\n",
       "      <td>0</td>\n",
       "      <td>-0.254920</td>\n",
       "      <td>-0.274902</td>\n",
       "      <td>0.257890</td>\n",
       "      <td>-0.272891</td>\n",
       "      <td>-0.136347</td>\n",
       "      <td>-0.371094</td>\n",
       "      <td>-0.025544</td>\n",
       "      <td>-0.282543</td>\n",
       "      <td>-0.311352</td>\n",
       "      <td>-0.107174</td>\n",
       "      <td>-0.167453</td>\n",
       "      <td>0.574190</td>\n",
       "      <td>hey man really trying edit war guy constantly ...</td>\n",
       "      <td>0.328930</td>\n",
       "      <td>0.000397</td>\n",
       "    </tr>\n",
       "    <tr>\n",
       "      <th>3</th>\n",
       "      <td>0001b41b1c6bb37e</td>\n",
       "      <td>\"\\nMore\\nI can't make any real suggestions on ...</td>\n",
       "      <td>0</td>\n",
       "      <td>0</td>\n",
       "      <td>0</td>\n",
       "      <td>0</td>\n",
       "      <td>0</td>\n",
       "      <td>0</td>\n",
       "      <td>0.460504</td>\n",
       "      <td>0.373099</td>\n",
       "      <td>0.348351</td>\n",
       "      <td>0.385547</td>\n",
       "      <td>-0.063836</td>\n",
       "      <td>-0.365520</td>\n",
       "      <td>-0.025544</td>\n",
       "      <td>-0.282543</td>\n",
       "      <td>-0.154764</td>\n",
       "      <td>-0.107174</td>\n",
       "      <td>0.622401</td>\n",
       "      <td>-1.009142</td>\n",
       "      <td>ca nt make real suggestion improvement wondere...</td>\n",
       "      <td>0.466452</td>\n",
       "      <td>-0.316384</td>\n",
       "    </tr>\n",
       "    <tr>\n",
       "      <th>4</th>\n",
       "      <td>0001d958c54c6e35</td>\n",
       "      <td>You, sir, are my hero. Any chance you remember...</td>\n",
       "      <td>0</td>\n",
       "      <td>0</td>\n",
       "      <td>0</td>\n",
       "      <td>0</td>\n",
       "      <td>0</td>\n",
       "      <td>0</td>\n",
       "      <td>-0.547136</td>\n",
       "      <td>-0.553197</td>\n",
       "      <td>0.683628</td>\n",
       "      <td>-0.553870</td>\n",
       "      <td>-0.157064</td>\n",
       "      <td>-0.234474</td>\n",
       "      <td>-0.025544</td>\n",
       "      <td>0.346355</td>\n",
       "      <td>-0.389645</td>\n",
       "      <td>-0.107174</td>\n",
       "      <td>-0.645039</td>\n",
       "      <td>1.131563</td>\n",
       "      <td>sir hero chance remember page</td>\n",
       "      <td>-0.289916</td>\n",
       "      <td>-1.409792</td>\n",
       "    </tr>\n",
       "  </tbody>\n",
       "</table>\n",
       "</div>"
      ],
      "text/plain": [
       "                 id  ... subjectivity\n",
       "0  0000997932d777bf  ...     0.262369\n",
       "1  000103f0d9cfb60f  ...    -0.674041\n",
       "2  000113f07ec002fd  ...     0.000397\n",
       "3  0001b41b1c6bb37e  ...    -0.316384\n",
       "4  0001d958c54c6e35  ...    -1.409792\n",
       "\n",
       "[5 rows x 23 columns]"
      ]
     },
     "execution_count": 3,
     "metadata": {
      "tags": []
     },
     "output_type": "execute_result"
    }
   ],
   "source": [
    "dir = \"drive/My Drive/BT4221/Data/\"\n",
    "df = pd.read_csv(dir+\"cleaned_train_v1.csv\")\n",
    "df = df.drop('Unnamed: 0', 1)\n",
    "df.head()"
   ]
  },
  {
   "cell_type": "code",
   "execution_count": 4,
   "metadata": {
    "executionInfo": {
     "elapsed": 1324,
     "status": "ok",
     "timestamp": 1606548389817,
     "user": {
      "displayName": "Bangda Zhou",
      "photoUrl": "https://lh3.googleusercontent.com/a-/AOh14GhXfpJ3TqGfKVLpDDP5vFqQdt_3AHl6d8MEJtH9nw=s64",
      "userId": "16045434051200219383"
     },
     "user_tz": -480
    },
    "id": "OzsZyU315zIa"
   },
   "outputs": [],
   "source": [
    "labels = ['toxic', 'severe_toxic', 'obscene', 'threat', 'insult', 'identity_hate']\n",
    "y = df[labels].values"
   ]
  },
  {
   "cell_type": "code",
   "execution_count": 5,
   "metadata": {
    "executionInfo": {
     "elapsed": 1886,
     "status": "ok",
     "timestamp": 1606548390994,
     "user": {
      "displayName": "Bangda Zhou",
      "photoUrl": "https://lh3.googleusercontent.com/a-/AOh14GhXfpJ3TqGfKVLpDDP5vFqQdt_3AHl6d8MEJtH9nw=s64",
      "userId": "16045434051200219383"
     },
     "user_tz": -480
    },
    "id": "Bk2dRPod_MJO"
   },
   "outputs": [],
   "source": [
    "X = df['processed_text'].values"
   ]
  },
  {
   "cell_type": "code",
   "execution_count": 6,
   "metadata": {
    "executionInfo": {
     "elapsed": 2390,
     "status": "ok",
     "timestamp": 1606548392254,
     "user": {
      "displayName": "Bangda Zhou",
      "photoUrl": "https://lh3.googleusercontent.com/a-/AOh14GhXfpJ3TqGfKVLpDDP5vFqQdt_3AHl6d8MEJtH9nw=s64",
      "userId": "16045434051200219383"
     },
     "user_tz": -480
    },
    "id": "W0QSMohoCP3m"
   },
   "outputs": [],
   "source": [
    "X_train, X_test, y_train, y_test = train_test_split(X, y,  test_size = 0.2, random_state=1234)"
   ]
  },
  {
   "cell_type": "code",
   "execution_count": 7,
   "metadata": {
    "executionInfo": {
     "elapsed": 10563,
     "status": "ok",
     "timestamp": 1606548402791,
     "user": {
      "displayName": "Bangda Zhou",
      "photoUrl": "https://lh3.googleusercontent.com/a-/AOh14GhXfpJ3TqGfKVLpDDP5vFqQdt_3AHl6d8MEJtH9nw=s64",
      "userId": "16045434051200219383"
     },
     "user_tz": -480
    },
    "id": "LlOAesMiXBCx"
   },
   "outputs": [],
   "source": [
    "tokenizer = Tokenizer(num_words=5000)\n",
    "tokenizer.fit_on_texts(X_train)\n",
    "\n",
    "X_train = tokenizer.texts_to_sequences(X_train)\n",
    "X_test = tokenizer.texts_to_sequences(X_test)\n",
    "\n",
    "vocab_size = len(tokenizer.word_index) + 1\n",
    "maxlen = 200\n",
    "\n",
    "X_train = pad_sequences(X_train, padding='post', maxlen=maxlen)\n",
    "X_test = pad_sequences(X_test, padding='post', maxlen=maxlen)"
   ]
  },
  {
   "cell_type": "code",
   "execution_count": null,
   "metadata": {
    "id": "qigFte6pdqh-"
   },
   "outputs": [],
   "source": [
    "embeddings_dictionary = dict()\n",
    "path = \"drive/My Drive/BT4221/Scripts/transformer/\"\n",
    "glove_file = open(path + 'glove.twitter.27B.200d.txt', encoding=\"utf8\")"
   ]
  },
  {
   "cell_type": "code",
   "execution_count": null,
   "metadata": {
    "id": "FKdFtNF9d4Oh"
   },
   "outputs": [],
   "source": [
    "for line in glove_file:\n",
    "    records = line.split()\n",
    "    word = records[0]\n",
    "    vector_dimensions = asarray(records[1:], dtype='float32')\n",
    "    embeddings_dictionary[word] = vector_dimensions\n",
    "glove_file.close()"
   ]
  },
  {
   "cell_type": "code",
   "execution_count": null,
   "metadata": {
    "id": "elL8lbaVXBFX"
   },
   "outputs": [],
   "source": [
    "embedding_matrix = zeros((vocab_size, 200))\n",
    "for word, index in tokenizer.word_index.items():\n",
    "    embedding_vector = embeddings_dictionary.get(word)\n",
    "    if embedding_vector is not None:\n",
    "        embedding_matrix[index] = embedding_vector"
   ]
  },
  {
   "cell_type": "code",
   "execution_count": null,
   "metadata": {
    "id": "7_hpXfUce4Us"
   },
   "outputs": [],
   "source": [
    "inp = Input(shape=(maxlen,))\n",
    "output = Embedding(vocab_size, 200, weights=[embedding_matrix], trainable=False)(inp)\n",
    "output = Bidirectional(LSTM(50, return_sequences=True, dropout=0.1, recurrent_dropout=0.1))(output)\n",
    "output = GlobalMaxPool1D()(output)\n",
    "output = BatchNormalization()(output)\n",
    "output = Dense(50, activation=\"relu\")(output)\n",
    "output = Dropout(0.1)(output)\n",
    "output = Dense(6, activation=\"sigmoid\")(output)\n",
    "model = Model(inputs=inp, outputs=output)\n",
    "model.compile(loss='binary_crossentropy', optimizer='adam', metrics=['accuracy'])"
   ]
  },
  {
   "cell_type": "code",
   "execution_count": null,
   "metadata": {
    "colab": {
     "base_uri": "https://localhost:8080/",
     "height": 758
    },
    "executionInfo": {
     "elapsed": 1124,
     "status": "ok",
     "timestamp": 1604674047376,
     "user": {
      "displayName": "Bangda Zhou",
      "photoUrl": "https://lh3.googleusercontent.com/a-/AOh14GhXfpJ3TqGfKVLpDDP5vFqQdt_3AHl6d8MEJtH9nw=s64",
      "userId": "16045434051200219383"
     },
     "user_tz": -480
    },
    "id": "jIcktbo8BUXg",
    "outputId": "1c663b58-b06f-4970-abc0-7b4b154e98dc"
   },
   "outputs": [
    {
     "data": {
      "image/png": "[encoded data removed]",
      "text/plain": [
       "<IPython.core.display.Image object>"
      ]
     },
     "execution_count": 42,
     "metadata": {
      "tags": []
     },
     "output_type": "execute_result"
    }
   ],
   "source": [
    "keras.utils.plot_model(model)"
   ]
  },
  {
   "cell_type": "code",
   "execution_count": null,
   "metadata": {
    "colab": {
     "base_uri": "https://localhost:8080/"
    },
    "executionInfo": {
     "elapsed": 3388649,
     "status": "ok",
     "timestamp": 1604677441983,
     "user": {
      "displayName": "Bangda Zhou",
      "photoUrl": "https://lh3.googleusercontent.com/a-/AOh14GhXfpJ3TqGfKVLpDDP5vFqQdt_3AHl6d8MEJtH9nw=s64",
      "userId": "16045434051200219383"
     },
     "user_tz": -480
    },
    "id": "OuuqSzkPe4an",
    "outputId": "129c42eb-7309-4238-ac7d-354f371eb35b"
   },
   "outputs": [
    {
     "name": "stdout",
     "output_type": "stream",
     "text": [
      "Epoch 1/3\n",
      "798/798 [==============================] - 1135s 1s/step - loss: 0.0903 - accuracy: 0.6963 - val_loss: 0.0556 - val_accuracy: 0.9781\n",
      "Epoch 2/3\n",
      "798/798 [==============================] - 1123s 1s/step - loss: 0.0528 - accuracy: 0.8710 - val_loss: 0.0519 - val_accuracy: 0.9687\n",
      "Epoch 3/3\n",
      "798/798 [==============================] - 1121s 1s/step - loss: 0.0488 - accuracy: 0.9261 - val_loss: 0.0530 - val_accuracy: 0.9917\n"
     ]
    }
   ],
   "source": [
    "history = model.fit(X_train, y_train, batch_size=128, epochs=3, verbose=1, validation_split=0.2)"
   ]
  },
  {
   "cell_type": "code",
   "execution_count": null,
   "metadata": {
    "colab": {
     "base_uri": "https://localhost:8080/"
    },
    "executionInfo": {
     "elapsed": 82220,
     "status": "ok",
     "timestamp": 1604677747660,
     "user": {
      "displayName": "Bangda Zhou",
      "photoUrl": "https://lh3.googleusercontent.com/a-/AOh14GhXfpJ3TqGfKVLpDDP5vFqQdt_3AHl6d8MEJtH9nw=s64",
      "userId": "16045434051200219383"
     },
     "user_tz": -480
    },
    "id": "harh5qwCe4Y4",
    "outputId": "f7237314-e95b-45cc-a4a4-11dd26ecc200"
   },
   "outputs": [
    {
     "name": "stdout",
     "output_type": "stream",
     "text": [
      "997/997 [==============================] - 81s 82ms/step - loss: 0.0505 - accuracy: 0.9922\n",
      "Test Score: 0.05050906538963318\n",
      "Test Accuracy: 0.9921632409095764\n"
     ]
    }
   ],
   "source": [
    "score = model.evaluate(X_test, y_test, verbose=1)\n",
    "\n",
    "print(\"Test Score:\", score[0])\n",
    "print(\"Test Accuracy:\", score[1])"
   ]
  },
  {
   "cell_type": "code",
   "execution_count": null,
   "metadata": {
    "id": "Me9J6qCymKr-"
   },
   "outputs": [],
   "source": [
    "model.save('/content/drive/My Drive/BT4221/Models/GloVe_LSTM.keras')"
   ]
  },
  {
   "cell_type": "code",
   "execution_count": null,
   "metadata": {
    "id": "ymvEl5iWbTIx"
   },
   "outputs": [],
   "source": [
    "model = keras.models.load_model('/content/drive/My Drive/BT4221/Models/GloVe_LSTM.keras')"
   ]
  },
  {
   "cell_type": "code",
   "execution_count": null,
   "metadata": {
    "id": "fOm_ez5vwdui"
   },
   "outputs": [],
   "source": [
    "y_pred = model.predict(X_test)"
   ]
  },
  {
   "cell_type": "code",
   "execution_count": null,
   "metadata": {
    "id": "aR5HoSx0e78t"
   },
   "outputs": [],
   "source": [
    "# class_threshold\n",
    "# # [0.09584448, 0.00999555, 0.05294822, 0.00299553, 0.04936361, 0.00880486]\n",
    "\n",
    "# y_pred_class = []\n",
    "# for i in y_pred:\n",
    "#   i_ = []\n",
    "#   for j in range(6):\n",
    "#     if i[j] >= class_threshold[j]:\n",
    "#       i_.append(1)\n",
    "#     else:\n",
    "#       i_.append(0)\n",
    "#   y_pred_class.append(i_)\n",
    "\n",
    "# hamming_loss(y_test, y_pred_class)\n",
    "# # 0.05286145679863745\n",
    "\n",
    "# f1_score(y_test, y_pred_class, average = \"macro\")\n",
    "# # 0.447888180303569"
   ]
  },
  {
   "cell_type": "code",
   "execution_count": null,
   "metadata": {
    "colab": {
     "base_uri": "https://localhost:8080/"
    },
    "executionInfo": {
     "elapsed": 4636,
     "status": "ok",
     "timestamp": 1604832159193,
     "user": {
      "displayName": "Bangda Zhou",
      "photoUrl": "https://lh3.googleusercontent.com/a-/AOh14GhXfpJ3TqGfKVLpDDP5vFqQdt_3AHl6d8MEJtH9nw=s64",
      "userId": "16045434051200219383"
     },
     "user_tz": -480
    },
    "id": "AQI4WD2y2JgW",
    "outputId": "30922524-49dd-49a2-cbe9-68c8db740a71"
   },
   "outputs": [
    {
     "name": "stdout",
     "output_type": "stream",
     "text": [
      "Threshold=0.42, Min Hamming Loss=0.017763288507152336, F1-score = 0.5270828076374984\n",
      "Threshold=0.18, Max F1-score=0.6069632538650298, Hamming Loss = 0.021545824059851833\n"
     ]
    }
   ],
   "source": [
    "thresholds = np.arange(0, 1, 0.01)\n",
    "\n",
    "def to_labels(pos_probs, threshold):\n",
    "\treturn (pos_probs >= threshold).astype('int')\n",
    " \n",
    "predictions = y_pred\n",
    "# evaluate each threshold\n",
    "scores_hl = [hamming_loss(y_test, to_labels(predictions, t)) for t in thresholds]\n",
    "scores_f1 = [f1_score(y_test, to_labels(predictions, t), average = \"macro\") for t in thresholds]\n",
    "\n",
    "# get best threshold\n",
    "ix_hl = np.argmin(scores_hl)\n",
    "print('Threshold={}, Min Hamming Loss={}, F1-score = {}'.format(thresholds[ix_hl], scores_hl[ix_hl], scores_f1[ix_hl]))\n",
    "\n",
    "ix_f1 = np.argmax(scores_f1)\n",
    "print('Threshold={}, Max F1-score={}, Hamming Loss = {}'.format(thresholds[ix_f1], scores_f1[ix_f1], scores_hl[ix_f1]))"
   ]
  },
  {
   "cell_type": "code",
   "execution_count": null,
   "metadata": {
    "colab": {
     "base_uri": "https://localhost:8080/"
    },
    "executionInfo": {
     "elapsed": 853,
     "status": "ok",
     "timestamp": 1604772739704,
     "user": {
      "displayName": "Bangda Zhou",
      "photoUrl": "https://lh3.googleusercontent.com/a-/AOh14GhXfpJ3TqGfKVLpDDP5vFqQdt_3AHl6d8MEJtH9nw=s64",
      "userId": "16045434051200219383"
     },
     "user_tz": -480
    },
    "id": "xvC7lc3bydBF",
    "outputId": "bafef6d0-cfce-4eef-dd3b-f225d56a982e"
   },
   "outputs": [
    {
     "name": "stdout",
     "output_type": "stream",
     "text": [
      "0.18\n",
      "0.021545824059851833\n"
     ]
    }
   ],
   "source": [
    "# convert float to binary integer\n",
    "predictions = y_pred\n",
    "thresholds = [0.18]\n",
    "for val in thresholds:\n",
    "  y_pred_copy=predictions.copy()\n",
    "\n",
    "  y_pred_copy[y_pred_copy>=val]=1\n",
    "  y_pred_copy[y_pred_copy<val]=0\n",
    "  print(val)\n",
    "  print(hamming_loss(y_test, y_pred_copy))\n",
    "\n"
   ]
  },
  {
   "cell_type": "code",
   "execution_count": null,
   "metadata": {
    "id": "T5jN0DdScZpB"
   },
   "outputs": [],
   "source": []
  },
  {
   "cell_type": "code",
   "execution_count": null,
   "metadata": {
    "id": "9I0jaVHs4LJI"
   },
   "outputs": [],
   "source": [
    "# generate mulilabel confusion matrix\n",
    "cm = multilabel_confusion_matrix(y_test, y_pred_copy)"
   ]
  },
  {
   "cell_type": "code",
   "execution_count": null,
   "metadata": {
    "id": "Pmlo1FrvbMFW"
   },
   "outputs": [],
   "source": [
    "def precision_recall(cmat): \n",
    "    tp = cmat[1][1] \n",
    "    fp = cmat[1][0] \n",
    "    fn = cmat[0][1] \n",
    "    tn = cmat[0][0] \n",
    "    return tp/(tp+fp), tp/(tp+fn)\n",
    "\n",
    "def print_confusion_matrix(confusion_matrix, axes, class_label, class_names, fontsize=14):\n",
    "    #compute tp, tp_and_fn and tp_and_fp w.r.t all classes\n",
    "    precision, recall = precision_recall(confusion_matrix)\n",
    "\n",
    "    df_cm = pd.DataFrame(\n",
    "        confusion_matrix, index=class_names, columns=class_names,\n",
    "    )\n",
    "\n",
    "    try:\n",
    "        heatmap = sns.heatmap(df_cm, annot=True, cmap=\"YlGnBu\", fmt=\"d\", cbar=False, ax=axes)\n",
    "    except ValueError:\n",
    "        raise ValueError(\"Confusion matrix values must be integers.\")\n",
    "    heatmap.yaxis.set_ticklabels(heatmap.yaxis.get_ticklabels(), rotation=0, ha='right', fontsize=fontsize)\n",
    "    heatmap.xaxis.set_ticklabels(heatmap.xaxis.get_ticklabels(), rotation=45, ha='right', fontsize=fontsize)\n",
    "    axes.set_xlabel('True label')\n",
    "    axes.set_ylabel('Predicted label')\n",
    "    axes.set_title(\"Confusion Matrix for the class - \" + class_label)\n",
    "\n",
    "    print(class_label)\n",
    "    print('Precision: {}'.format(precision))\n",
    "    print('Recall: {}'.format(recall))\n",
    "    print()"
   ]
  },
  {
   "cell_type": "code",
   "execution_count": null,
   "metadata": {
    "colab": {
     "base_uri": "https://localhost:8080/",
     "height": 921
    },
    "executionInfo": {
     "elapsed": 1896,
     "status": "ok",
     "timestamp": 1604772767108,
     "user": {
      "displayName": "Bangda Zhou",
      "photoUrl": "https://lh3.googleusercontent.com/a-/AOh14GhXfpJ3TqGfKVLpDDP5vFqQdt_3AHl6d8MEJtH9nw=s64",
      "userId": "16045434051200219383"
     },
     "user_tz": -480
    },
    "id": "sD2V3t0F6PT-",
    "outputId": "51fd34c8-c604-4f44-c9ce-fae74ed24d55"
   },
   "outputs": [
    {
     "name": "stdout",
     "output_type": "stream",
     "text": [
      "toxic\n",
      "Precision: 0.8089637635092181\n",
      "Recall: 0.7417662489070241\n",
      "\n",
      "severe_toxic\n",
      "Precision: 0.5173501577287066\n",
      "Recall: 0.39902676399026765\n",
      "\n",
      "obscene\n",
      "Precision: 0.8569794050343249\n",
      "Recall: 0.7584810126582279\n",
      "\n",
      "threat\n",
      "Precision: 0.375\n",
      "Recall: 0.4235294117647059\n",
      "\n",
      "insult\n",
      "Precision: 0.8403519798868636\n",
      "Recall: 0.6060743427017226\n",
      "\n",
      "identity_hate\n",
      "Precision: 0.5105633802816901\n",
      "Recall: 0.5105633802816901\n",
      "\n"
     ]
    },
    {
     "data": {
      "image/png": "[encoded data removed]",
      "text/plain": [
       "<Figure size 864x504 with 6 Axes>"
      ]
     },
     "metadata": {
      "needs_background": "light",
      "tags": []
     },
     "output_type": "display_data"
    }
   ],
   "source": [
    "# use threshold 0.18\n",
    "fig, ax = plt.subplots(3, 2, figsize=(12, 7))\n",
    "    \n",
    "for axes, cfs_matrix, label in zip(ax.flatten(), cm, labels):\n",
    "\n",
    "  print_confusion_matrix(cfs_matrix, axes, label, [\"N\", \"Y\"])\n",
    "\n",
    "fig.tight_layout()\n",
    "plt.show()  "
   ]
  },
  {
   "cell_type": "code",
   "execution_count": null,
   "metadata": {
    "colab": {
     "base_uri": "https://localhost:8080/",
     "height": 921
    },
    "executionInfo": {
     "elapsed": 2189,
     "status": "ok",
     "timestamp": 1604772388019,
     "user": {
      "displayName": "Bangda Zhou",
      "photoUrl": "https://lh3.googleusercontent.com/a-/AOh14GhXfpJ3TqGfKVLpDDP5vFqQdt_3AHl6d8MEJtH9nw=s64",
      "userId": "16045434051200219383"
     },
     "user_tz": -480
    },
    "id": "3jJvqbfJ4wZb",
    "outputId": "0e577d3e-91cf-462c-8ce0-6662f230542d"
   },
   "outputs": [
    {
     "name": "stdout",
     "output_type": "stream",
     "text": [
      "toxic\n",
      "Precision: 0.7116973935155754\n",
      "Recall: 0.8718847352024922\n",
      "\n",
      "severe_toxic\n",
      "Precision: 0.12933753943217666\n",
      "Recall: 0.5694444444444444\n",
      "\n",
      "obscene\n",
      "Precision: 0.7488558352402745\n",
      "Recall: 0.870345744680851\n",
      "\n",
      "threat\n",
      "Precision: 0.16666666666666666\n",
      "Recall: 0.5925925925925926\n",
      "\n",
      "insult\n",
      "Precision: 0.700188560653677\n",
      "Recall: 0.7319316688567674\n",
      "\n",
      "identity_hate\n",
      "Precision: 0.2746478873239437\n",
      "Recall: 0.6554621848739496\n",
      "\n"
     ]
    },
    {
     "data": {
      "image/png": "[encoded data removed]",
      "text/plain": [
       "<Figure size 864x504 with 6 Axes>"
      ]
     },
     "metadata": {
      "needs_background": "light",
      "tags": []
     },
     "output_type": "display_data"
    }
   ],
   "source": [
    "# use threshold 0.42\n",
    "fig, ax = plt.subplots(3, 2, figsize=(12, 7))\n",
    "    \n",
    "for axes, cfs_matrix, label in zip(ax.flatten(), cm, labels):\n",
    "\n",
    "  print_confusion_matrix(cfs_matrix, axes, label, [\"N\", \"Y\"])\n",
    "\n",
    "fig.tight_layout()\n",
    "plt.show()  "
   ]
  },
  {
   "cell_type": "code",
   "execution_count": null,
   "metadata": {
    "colab": {
     "base_uri": "https://localhost:8080/",
     "height": 921
    },
    "executionInfo": {
     "elapsed": 1997,
     "status": "ok",
     "timestamp": 1604742608959,
     "user": {
      "displayName": "Bangda Zhou",
      "photoUrl": "https://lh3.googleusercontent.com/a-/AOh14GhXfpJ3TqGfKVLpDDP5vFqQdt_3AHl6d8MEJtH9nw=s64",
      "userId": "16045434051200219383"
     },
     "user_tz": -480
    },
    "id": "pMUsmbot7TB9",
    "outputId": "b5145165-c585-4bac-d6b4-565d2914bd35"
   },
   "outputs": [
    {
     "name": "stdout",
     "output_type": "stream",
     "text": [
      "toxic\n",
      "Precision: 0.9918970613806295\n",
      "Recall: 0.965669014084507\n",
      "\n",
      "severe_toxic\n",
      "Precision: 0.9998100303951368\n",
      "Recall: 0.9905269761606023\n",
      "\n",
      "obscene\n",
      "Precision: 0.9949922064139555\n",
      "Recall: 0.9835108998524832\n",
      "\n",
      "threat\n",
      "Precision: 0.9997484672221348\n",
      "Recall: 0.997396486825596\n",
      "\n",
      "insult\n",
      "Precision: 0.9893434510062685\n",
      "Recall: 0.9815711947626842\n",
      "\n",
      "identity_hate\n",
      "Precision: 0.9993358003605656\n",
      "Recall: 0.9927732042983723\n",
      "\n"
     ]
    },
    {
     "data": {
      "image/png": "[encoded data removed]",
      "text/plain": [
       "<Figure size 864x504 with 6 Axes>"
      ]
     },
     "metadata": {
      "needs_background": "light",
      "tags": []
     },
     "output_type": "display_data"
    }
   ],
   "source": [
    "# use threshold 0.5\n",
    "fig, ax = plt.subplots(3, 2, figsize=(12, 7))\n",
    "    \n",
    "for axes, cfs_matrix, label in zip(ax.flatten(), cm, labels):\n",
    "\n",
    "  print_confusion_matrix(cfs_matrix, axes, label, [\"Y\", \"N\"])\n",
    "\n",
    "fig.tight_layout()\n",
    "plt.show()  "
   ]
  },
  {
   "cell_type": "code",
   "execution_count": null,
   "metadata": {
    "id": "IhspdyQ3Qph9"
   },
   "outputs": [],
   "source": []
  }
 ],
 "metadata": {
  "accelerator": "TPU",
  "colab": {
   "collapsed_sections": [],
   "name": "WordEmbedding (GolVe) with Deep Model.ipynb",
   "provenance": [
    {
     "file_id": "1-ggL2tWk6yoYmH801NjJ93zsf-c-NgR2",
     "timestamp": 1604554109398
    }
   ]
  },
  "kernelspec": {
   "display_name": "Python 3",
   "language": "python",
   "name": "python3"
  },
  "language_info": {
   "codemirror_mode": {
    "name": "ipython",
    "version": 3
   },
   "file_extension": ".py",
   "mimetype": "text/x-python",
   "name": "python",
   "nbconvert_exporter": "python",
   "pygments_lexer": "ipython3",
   "version": "3.8.3"
  }
 },
 "nbformat": 4,
 "nbformat_minor": 1
}
