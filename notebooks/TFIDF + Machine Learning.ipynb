{
 "cells": [
  {
   "cell_type": "markdown",
   "metadata": {
    "id": "qwrTDoArEif6"
   },
   "source": [
    "# Import Packages"
   ]
  },
  {
   "cell_type": "code",
   "execution_count": null,
   "metadata": {
    "colab": {
     "base_uri": "https://localhost:8080/"
    },
    "executionInfo": {
     "elapsed": 9818,
     "status": "ok",
     "timestamp": 1604759528419,
     "user": {
      "displayName": "jieyi ji",
      "photoUrl": "https://lh3.googleusercontent.com/a-/AOh14GiYh62xXNDXt1wAXiI_xPFYFCkomVPQJ4A2OZU-=s64",
      "userId": "14715382248570789684"
     },
     "user_tz": -480
    },
    "id": "hjnnBvLEiudv",
    "outputId": "14e55c07-d9fb-41e6-868b-fba82aae125b"
   },
   "outputs": [
    {
     "name": "stdout",
     "output_type": "stream",
     "text": [
      "Collecting scikit-multilearn\n",
      "\u001b[?25l  Downloading https://files.pythonhosted.org/packages/bb/1f/e6ff649c72a1cdf2c7a1d31eb21705110ce1c5d3e7e26b2cc300e1637272/scikit_multilearn-0.2.0-py3-none-any.whl (89kB)\n",
      "\r",
      "\u001b[K     |███▊                            | 10kB 21.7MB/s eta 0:00:01\r",
      "\u001b[K     |███████▍                        | 20kB 2.1MB/s eta 0:00:01\r",
      "\u001b[K     |███████████                     | 30kB 2.6MB/s eta 0:00:01\r",
      "\u001b[K     |██████████████▊                 | 40kB 2.9MB/s eta 0:00:01\r",
      "\u001b[K     |██████████████████▍             | 51kB 2.5MB/s eta 0:00:01\r",
      "\u001b[K     |██████████████████████          | 61kB 2.8MB/s eta 0:00:01\r",
      "\u001b[K     |█████████████████████████▊      | 71kB 3.0MB/s eta 0:00:01\r",
      "\u001b[K     |█████████████████████████████▍  | 81kB 3.2MB/s eta 0:00:01\r",
      "\u001b[K     |████████████████████████████████| 92kB 2.5MB/s \n",
      "\u001b[?25hInstalling collected packages: scikit-multilearn\n",
      "Successfully installed scikit-multilearn-0.2.0\n",
      "[nltk_data] Downloading package stopwords to /root/nltk_data...\n",
      "[nltk_data]   Unzipping corpora/stopwords.zip.\n",
      "[nltk_data] Downloading package punkt to /root/nltk_data...\n",
      "[nltk_data]   Unzipping tokenizers/punkt.zip.\n",
      "[nltk_data] Downloading package wordnet to /root/nltk_data...\n",
      "[nltk_data]   Unzipping corpora/wordnet.zip.\n",
      "[nltk_data] Downloading package averaged_perceptron_tagger to\n",
      "[nltk_data]     /root/nltk_data...\n",
      "[nltk_data]   Unzipping taggers/averaged_perceptron_tagger.zip.\n"
     ]
    },
    {
     "data": {
      "text/plain": [
       "True"
      ]
     },
     "execution_count": 1,
     "metadata": {
      "tags": []
     },
     "output_type": "execute_result"
    }
   ],
   "source": [
    "# Import packages\n",
    "!pip install scikit-multilearn\n",
    "import pandas as pd\n",
    "from scipy.sparse import hstack\n",
    "import numpy as np\n",
    "from nltk.tokenize import word_tokenize\n",
    "from nltk import pos_tag\n",
    "from nltk.corpus import stopwords\n",
    "from nltk.stem import WordNetLemmatizer\n",
    "import nltk\n",
    "import os\n",
    "import re\n",
    "from collections import Counter\n",
    "import random\n",
    "import pickle\n",
    "import string\n",
    "from sklearn.metrics import accuracy_score,f1_score,confusion_matrix,classification_report\n",
    "from sklearn.ensemble import RandomForestClassifier\n",
    "from sklearn.ensemble import AdaBoostClassifier\n",
    "from xgboost import XGBClassifier\n",
    "from sklearn.preprocessing import StandardScaler\n",
    "from sklearn.naive_bayes import MultinomialNB, GaussianNB\n",
    "from sklearn.feature_extraction.text import CountVectorizer\n",
    "from sklearn.feature_extraction.text import TfidfTransformer\n",
    "from sklearn.linear_model import SGDClassifier\n",
    "from sklearn.svm import NuSVC, LinearSVC, SVC\n",
    "from skmultilearn.problem_transform import BinaryRelevance, ClassifierChain, LabelPowerset\n",
    "from skmultilearn.model_selection import iterative_train_test_split\n",
    "\n",
    "nltk.download('stopwords')\n",
    "nltk.download('punkt')\n",
    "nltk.download('wordnet')\n",
    "nltk.download('averaged_perceptron_tagger')\n"
   ]
  },
  {
   "cell_type": "code",
   "execution_count": null,
   "metadata": {
    "colab": {
     "base_uri": "https://localhost:8080/"
    },
    "executionInfo": {
     "elapsed": 29020,
     "status": "ok",
     "timestamp": 1604759547627,
     "user": {
      "displayName": "jieyi ji",
      "photoUrl": "https://lh3.googleusercontent.com/a-/AOh14GiYh62xXNDXt1wAXiI_xPFYFCkomVPQJ4A2OZU-=s64",
      "userId": "14715382248570789684"
     },
     "user_tz": -480
    },
    "id": "A7bk2imQi3Cq",
    "outputId": "43c75440-7bd9-4b8a-9b75-064786031031"
   },
   "outputs": [
    {
     "name": "stdout",
     "output_type": "stream",
     "text": [
      "Mounted at /content/drive\n"
     ]
    }
   ],
   "source": [
    "# Mount Drive\n",
    "from google.colab import drive\n",
    "drive.mount('/content/drive',force_remount=True)\n",
    "dir = \"drive/My Drive/BT4221/Data/\""
   ]
  },
  {
   "cell_type": "markdown",
   "metadata": {
    "id": "wwknvbmHEnHy"
   },
   "source": [
    "## Data Preprocessing\n"
   ]
  },
  {
   "cell_type": "markdown",
   "metadata": {
    "id": "fgsGYcdOFkMx"
   },
   "source": [
    "### Load preprocessed training dataframe"
   ]
  },
  {
   "cell_type": "code",
   "execution_count": null,
   "metadata": {
    "colab": {
     "base_uri": "https://localhost:8080/",
     "height": 428
    },
    "executionInfo": {
     "elapsed": 31971,
     "status": "ok",
     "timestamp": 1604759550583,
     "user": {
      "displayName": "jieyi ji",
      "photoUrl": "https://lh3.googleusercontent.com/a-/AOh14GiYh62xXNDXt1wAXiI_xPFYFCkomVPQJ4A2OZU-=s64",
      "userId": "14715382248570789684"
     },
     "user_tz": -480
    },
    "id": "RHhxeCLJi3BB",
    "outputId": "d9b20fe6-0474-4d80-ef1e-2acd3c0ed7d7"
   },
   "outputs": [
    {
     "data": {
      "text/html": [
       "<div>\n",
       "<style scoped>\n",
       "    .dataframe tbody tr th:only-of-type {\n",
       "        vertical-align: middle;\n",
       "    }\n",
       "\n",
       "    .dataframe tbody tr th {\n",
       "        vertical-align: top;\n",
       "    }\n",
       "\n",
       "    .dataframe thead th {\n",
       "        text-align: right;\n",
       "    }\n",
       "</style>\n",
       "<table border=\"1\" class=\"dataframe\">\n",
       "  <thead>\n",
       "    <tr style=\"text-align: right;\">\n",
       "      <th></th>\n",
       "      <th>id</th>\n",
       "      <th>comment_text</th>\n",
       "      <th>toxic</th>\n",
       "      <th>severe_toxic</th>\n",
       "      <th>obscene</th>\n",
       "      <th>threat</th>\n",
       "      <th>insult</th>\n",
       "      <th>identity_hate</th>\n",
       "      <th>word_count</th>\n",
       "      <th>char_count</th>\n",
       "      <th>word_density</th>\n",
       "      <th>total_length</th>\n",
       "      <th>capitals</th>\n",
       "      <th>capitals_prop</th>\n",
       "      <th>num_exclamation_marks</th>\n",
       "      <th>num_question_marks</th>\n",
       "      <th>num_punctuation</th>\n",
       "      <th>num_symbols</th>\n",
       "      <th>num_unique_words</th>\n",
       "      <th>prop_unique_words</th>\n",
       "      <th>processed_text</th>\n",
       "      <th>polarity</th>\n",
       "      <th>subjectivity</th>\n",
       "    </tr>\n",
       "  </thead>\n",
       "  <tbody>\n",
       "    <tr>\n",
       "      <th>0</th>\n",
       "      <td>0000997932d777bf</td>\n",
       "      <td>Explanation\\nWhy the edits made under my usern...</td>\n",
       "      <td>0</td>\n",
       "      <td>0</td>\n",
       "      <td>0</td>\n",
       "      <td>0</td>\n",
       "      <td>0</td>\n",
       "      <td>0</td>\n",
       "      <td>43</td>\n",
       "      <td>223</td>\n",
       "      <td>0.191964</td>\n",
       "      <td>264</td>\n",
       "      <td>17</td>\n",
       "      <td>0.064394</td>\n",
       "      <td>0</td>\n",
       "      <td>1</td>\n",
       "      <td>6</td>\n",
       "      <td>0</td>\n",
       "      <td>41</td>\n",
       "      <td>0.953488</td>\n",
       "      <td>explanation edits made username hardcore metal...</td>\n",
       "      <td>0.136364</td>\n",
       "      <td>0.454545</td>\n",
       "    </tr>\n",
       "    <tr>\n",
       "      <th>1</th>\n",
       "      <td>000103f0d9cfb60f</td>\n",
       "      <td>D'aww! He matches this background colour I'm s...</td>\n",
       "      <td>0</td>\n",
       "      <td>0</td>\n",
       "      <td>0</td>\n",
       "      <td>0</td>\n",
       "      <td>0</td>\n",
       "      <td>0</td>\n",
       "      <td>17</td>\n",
       "      <td>95</td>\n",
       "      <td>0.177083</td>\n",
       "      <td>112</td>\n",
       "      <td>8</td>\n",
       "      <td>0.071429</td>\n",
       "      <td>1</td>\n",
       "      <td>0</td>\n",
       "      <td>5</td>\n",
       "      <td>0</td>\n",
       "      <td>17</td>\n",
       "      <td>1.000000</td>\n",
       "      <td>daww match background colour seemingly stuck t...</td>\n",
       "      <td>0.200000</td>\n",
       "      <td>0.200000</td>\n",
       "    </tr>\n",
       "    <tr>\n",
       "      <th>2</th>\n",
       "      <td>000113f07ec002fd</td>\n",
       "      <td>Hey man, I'm really not trying to edit war. It...</td>\n",
       "      <td>0</td>\n",
       "      <td>0</td>\n",
       "      <td>0</td>\n",
       "      <td>0</td>\n",
       "      <td>0</td>\n",
       "      <td>0</td>\n",
       "      <td>42</td>\n",
       "      <td>192</td>\n",
       "      <td>0.217617</td>\n",
       "      <td>233</td>\n",
       "      <td>4</td>\n",
       "      <td>0.017167</td>\n",
       "      <td>0</td>\n",
       "      <td>0</td>\n",
       "      <td>4</td>\n",
       "      <td>0</td>\n",
       "      <td>39</td>\n",
       "      <td>0.928571</td>\n",
       "      <td>hey man really trying edit war guy constantly ...</td>\n",
       "      <td>0.150000</td>\n",
       "      <td>0.383333</td>\n",
       "    </tr>\n",
       "    <tr>\n",
       "      <th>3</th>\n",
       "      <td>0001b41b1c6bb37e</td>\n",
       "      <td>\"\\nMore\\nI can't make any real suggestions on ...</td>\n",
       "      <td>0</td>\n",
       "      <td>0</td>\n",
       "      <td>0</td>\n",
       "      <td>0</td>\n",
       "      <td>0</td>\n",
       "      <td>0</td>\n",
       "      <td>113</td>\n",
       "      <td>511</td>\n",
       "      <td>0.220703</td>\n",
       "      <td>622</td>\n",
       "      <td>11</td>\n",
       "      <td>0.017685</td>\n",
       "      <td>0</td>\n",
       "      <td>0</td>\n",
       "      <td>6</td>\n",
       "      <td>0</td>\n",
       "      <td>82</td>\n",
       "      <td>0.725664</td>\n",
       "      <td>ca nt make real suggestion improvement wondere...</td>\n",
       "      <td>0.183333</td>\n",
       "      <td>0.297222</td>\n",
       "    </tr>\n",
       "    <tr>\n",
       "      <th>4</th>\n",
       "      <td>0001d958c54c6e35</td>\n",
       "      <td>You, sir, are my hero. Any chance you remember...</td>\n",
       "      <td>0</td>\n",
       "      <td>0</td>\n",
       "      <td>0</td>\n",
       "      <td>0</td>\n",
       "      <td>0</td>\n",
       "      <td>0</td>\n",
       "      <td>13</td>\n",
       "      <td>55</td>\n",
       "      <td>0.232143</td>\n",
       "      <td>67</td>\n",
       "      <td>2</td>\n",
       "      <td>0.029851</td>\n",
       "      <td>0</td>\n",
       "      <td>1</td>\n",
       "      <td>3</td>\n",
       "      <td>0</td>\n",
       "      <td>13</td>\n",
       "      <td>1.000000</td>\n",
       "      <td>sir hero chance remember page</td>\n",
       "      <td>0.000000</td>\n",
       "      <td>0.000000</td>\n",
       "    </tr>\n",
       "  </tbody>\n",
       "</table>\n",
       "</div>"
      ],
      "text/plain": [
       "                 id  ... subjectivity\n",
       "0  0000997932d777bf  ...     0.454545\n",
       "1  000103f0d9cfb60f  ...     0.200000\n",
       "2  000113f07ec002fd  ...     0.383333\n",
       "3  0001b41b1c6bb37e  ...     0.297222\n",
       "4  0001d958c54c6e35  ...     0.000000\n",
       "\n",
       "[5 rows x 23 columns]"
      ]
     },
     "execution_count": 3,
     "metadata": {
      "tags": []
     },
     "output_type": "execute_result"
    }
   ],
   "source": [
    "df = pd.read_csv(dir+\"cleaned_train.csv\")\n",
    "df = df[~df['processed_text'].isnull()]\n",
    "df.reset_index(drop=True,inplace=True)\n",
    "df.head()"
   ]
  },
  {
   "cell_type": "code",
   "execution_count": null,
   "metadata": {
    "id": "3rYcQPQ8i20J"
   },
   "outputs": [],
   "source": [
    "#pickle.dump(count_vect,open('/content/drive/My Drive/BT4221/Models/count_vect_v1.sav','wb'))\n",
    "#pickle.dump(tf,open('/content/drive/My Drive/BT4221/Models/tf_v1.sav','wb'))"
   ]
  },
  {
   "cell_type": "markdown",
   "metadata": {
    "id": "AG0GQp6xE0Nb"
   },
   "source": [
    "### Load Count_vect & tfidf to calculate TFIDF Matrix"
   ]
  },
  {
   "cell_type": "code",
   "execution_count": null,
   "metadata": {
    "id": "cMreet9jlqzL"
   },
   "outputs": [],
   "source": [
    "count_vect = pickle.load(open('/content/drive/My Drive/BT4221/Models/count_vect_v1.sav','rb'))\n",
    "tf = pickle.load(open('/content/drive/My Drive/BT4221/Models/tf_v1.sav','rb'))\n",
    "X= df['processed_text']\n",
    "#count_vect = CountVectorizer()\n",
    "X_count = count_vect.transform(X)\n",
    "#tf = TfidfTransformer()\n",
    "X = tf.fit_transform(X_count)"
   ]
  },
  {
   "cell_type": "code",
   "execution_count": null,
   "metadata": {
    "colab": {
     "base_uri": "https://localhost:8080/"
    },
    "executionInfo": {
     "elapsed": 38355,
     "status": "ok",
     "timestamp": 1604759556980,
     "user": {
      "displayName": "jieyi ji",
      "photoUrl": "https://lh3.googleusercontent.com/a-/AOh14GiYh62xXNDXt1wAXiI_xPFYFCkomVPQJ4A2OZU-=s64",
      "userId": "14715382248570789684"
     },
     "user_tz": -480
    },
    "id": "glxVssGt6Wv0",
    "outputId": "b268ceca-df1d-48f9-b600-288afa1b0dd2"
   },
   "outputs": [
    {
     "name": "stdout",
     "output_type": "stream",
     "text": [
      "(159502, 188826)\n",
      "(159502, 23)\n"
     ]
    }
   ],
   "source": [
    "print(X.shape)\n",
    "print(df.shape)"
   ]
  },
  {
   "cell_type": "markdown",
   "metadata": {
    "id": "vsKcAszgE9kp"
   },
   "source": [
    "### Append Added_features using HStack"
   ]
  },
  {
   "cell_type": "code",
   "execution_count": null,
   "metadata": {
    "colab": {
     "base_uri": "https://localhost:8080/",
     "height": 683
    },
    "executionInfo": {
     "elapsed": 42471,
     "status": "ok",
     "timestamp": 1604759561101,
     "user": {
      "displayName": "jieyi ji",
      "photoUrl": "https://lh3.googleusercontent.com/a-/AOh14GiYh62xXNDXt1wAXiI_xPFYFCkomVPQJ4A2OZU-=s64",
      "userId": "14715382248570789684"
     },
     "user_tz": -480
    },
    "id": "175Hzkfm7mZX",
    "outputId": "703f984b-1fd7-4229-a8e5-8c05fd3f1515"
   },
   "outputs": [
    {
     "name": "stdout",
     "output_type": "stream",
     "text": [
      "word_count\n",
      "char_count\n",
      "word_density\n",
      "total_length\n",
      "capitals\n",
      "capitals_prop\n",
      "num_exclamation_marks\n",
      "num_question_marks\n",
      "num_punctuation\n",
      "num_symbols\n",
      "num_unique_words\n",
      "prop_unique_words\n",
      "polarity\n",
      "subjectivity\n",
      "(159502, 188840)\n"
     ]
    },
    {
     "data": {
      "text/html": [
       "<div>\n",
       "<style scoped>\n",
       "    .dataframe tbody tr th:only-of-type {\n",
       "        vertical-align: middle;\n",
       "    }\n",
       "\n",
       "    .dataframe tbody tr th {\n",
       "        vertical-align: top;\n",
       "    }\n",
       "\n",
       "    .dataframe thead th {\n",
       "        text-align: right;\n",
       "    }\n",
       "</style>\n",
       "<table border=\"1\" class=\"dataframe\">\n",
       "  <thead>\n",
       "    <tr style=\"text-align: right;\">\n",
       "      <th></th>\n",
       "      <th>id</th>\n",
       "      <th>comment_text</th>\n",
       "      <th>toxic</th>\n",
       "      <th>severe_toxic</th>\n",
       "      <th>obscene</th>\n",
       "      <th>threat</th>\n",
       "      <th>insult</th>\n",
       "      <th>identity_hate</th>\n",
       "      <th>word_count</th>\n",
       "      <th>char_count</th>\n",
       "      <th>word_density</th>\n",
       "      <th>total_length</th>\n",
       "      <th>capitals</th>\n",
       "      <th>capitals_prop</th>\n",
       "      <th>num_exclamation_marks</th>\n",
       "      <th>num_question_marks</th>\n",
       "      <th>num_punctuation</th>\n",
       "      <th>num_symbols</th>\n",
       "      <th>num_unique_words</th>\n",
       "      <th>prop_unique_words</th>\n",
       "      <th>processed_text</th>\n",
       "      <th>polarity</th>\n",
       "      <th>subjectivity</th>\n",
       "    </tr>\n",
       "  </thead>\n",
       "  <tbody>\n",
       "    <tr>\n",
       "      <th>0</th>\n",
       "      <td>0000997932d777bf</td>\n",
       "      <td>Explanation\\nWhy the edits made under my usern...</td>\n",
       "      <td>0</td>\n",
       "      <td>0</td>\n",
       "      <td>0</td>\n",
       "      <td>0</td>\n",
       "      <td>0</td>\n",
       "      <td>0</td>\n",
       "      <td>43</td>\n",
       "      <td>223</td>\n",
       "      <td>0.191964</td>\n",
       "      <td>264</td>\n",
       "      <td>17</td>\n",
       "      <td>0.064394</td>\n",
       "      <td>0</td>\n",
       "      <td>1</td>\n",
       "      <td>6</td>\n",
       "      <td>0</td>\n",
       "      <td>41</td>\n",
       "      <td>0.953488</td>\n",
       "      <td>explanation edits made username hardcore metal...</td>\n",
       "      <td>0.136364</td>\n",
       "      <td>0.454545</td>\n",
       "    </tr>\n",
       "    <tr>\n",
       "      <th>1</th>\n",
       "      <td>000103f0d9cfb60f</td>\n",
       "      <td>D'aww! He matches this background colour I'm s...</td>\n",
       "      <td>0</td>\n",
       "      <td>0</td>\n",
       "      <td>0</td>\n",
       "      <td>0</td>\n",
       "      <td>0</td>\n",
       "      <td>0</td>\n",
       "      <td>17</td>\n",
       "      <td>95</td>\n",
       "      <td>0.177083</td>\n",
       "      <td>112</td>\n",
       "      <td>8</td>\n",
       "      <td>0.071429</td>\n",
       "      <td>1</td>\n",
       "      <td>0</td>\n",
       "      <td>5</td>\n",
       "      <td>0</td>\n",
       "      <td>17</td>\n",
       "      <td>1.000000</td>\n",
       "      <td>daww match background colour seemingly stuck t...</td>\n",
       "      <td>0.200000</td>\n",
       "      <td>0.200000</td>\n",
       "    </tr>\n",
       "    <tr>\n",
       "      <th>2</th>\n",
       "      <td>000113f07ec002fd</td>\n",
       "      <td>Hey man, I'm really not trying to edit war. It...</td>\n",
       "      <td>0</td>\n",
       "      <td>0</td>\n",
       "      <td>0</td>\n",
       "      <td>0</td>\n",
       "      <td>0</td>\n",
       "      <td>0</td>\n",
       "      <td>42</td>\n",
       "      <td>192</td>\n",
       "      <td>0.217617</td>\n",
       "      <td>233</td>\n",
       "      <td>4</td>\n",
       "      <td>0.017167</td>\n",
       "      <td>0</td>\n",
       "      <td>0</td>\n",
       "      <td>4</td>\n",
       "      <td>0</td>\n",
       "      <td>39</td>\n",
       "      <td>0.928571</td>\n",
       "      <td>hey man really trying edit war guy constantly ...</td>\n",
       "      <td>0.150000</td>\n",
       "      <td>0.383333</td>\n",
       "    </tr>\n",
       "    <tr>\n",
       "      <th>3</th>\n",
       "      <td>0001b41b1c6bb37e</td>\n",
       "      <td>\"\\nMore\\nI can't make any real suggestions on ...</td>\n",
       "      <td>0</td>\n",
       "      <td>0</td>\n",
       "      <td>0</td>\n",
       "      <td>0</td>\n",
       "      <td>0</td>\n",
       "      <td>0</td>\n",
       "      <td>113</td>\n",
       "      <td>511</td>\n",
       "      <td>0.220703</td>\n",
       "      <td>622</td>\n",
       "      <td>11</td>\n",
       "      <td>0.017685</td>\n",
       "      <td>0</td>\n",
       "      <td>0</td>\n",
       "      <td>6</td>\n",
       "      <td>0</td>\n",
       "      <td>82</td>\n",
       "      <td>0.725664</td>\n",
       "      <td>ca nt make real suggestion improvement wondere...</td>\n",
       "      <td>0.183333</td>\n",
       "      <td>0.297222</td>\n",
       "    </tr>\n",
       "    <tr>\n",
       "      <th>4</th>\n",
       "      <td>0001d958c54c6e35</td>\n",
       "      <td>You, sir, are my hero. Any chance you remember...</td>\n",
       "      <td>0</td>\n",
       "      <td>0</td>\n",
       "      <td>0</td>\n",
       "      <td>0</td>\n",
       "      <td>0</td>\n",
       "      <td>0</td>\n",
       "      <td>13</td>\n",
       "      <td>55</td>\n",
       "      <td>0.232143</td>\n",
       "      <td>67</td>\n",
       "      <td>2</td>\n",
       "      <td>0.029851</td>\n",
       "      <td>0</td>\n",
       "      <td>1</td>\n",
       "      <td>3</td>\n",
       "      <td>0</td>\n",
       "      <td>13</td>\n",
       "      <td>1.000000</td>\n",
       "      <td>sir hero chance remember page</td>\n",
       "      <td>0.000000</td>\n",
       "      <td>0.000000</td>\n",
       "    </tr>\n",
       "  </tbody>\n",
       "</table>\n",
       "</div>"
      ],
      "text/plain": [
       "                 id  ... subjectivity\n",
       "0  0000997932d777bf  ...     0.454545\n",
       "1  000103f0d9cfb60f  ...     0.200000\n",
       "2  000113f07ec002fd  ...     0.383333\n",
       "3  0001b41b1c6bb37e  ...     0.297222\n",
       "4  0001d958c54c6e35  ...     0.000000\n",
       "\n",
       "[5 rows x 23 columns]"
      ]
     },
     "execution_count": 7,
     "metadata": {
      "tags": []
     },
     "output_type": "execute_result"
    }
   ],
   "source": [
    "added_features = pd.DataFrame(df.iloc[:, 8:23])\n",
    "added_features.drop(columns='processed_text',inplace=True)\n",
    "for column in added_features.columns:\n",
    "    print(column)\n",
    "    var_sparse = StandardScaler().fit_transform(added_features[column].values[:, None])\n",
    "    #df[column] = var_sparse\n",
    "    X = hstack((X, var_sparse.astype(float)),format='csr')\n",
    "print(X.shape)\n",
    "df.head()"
   ]
  },
  {
   "cell_type": "code",
   "execution_count": null,
   "metadata": {
    "id": "1jd2n6PymXZZ"
   },
   "outputs": [],
   "source": [
    "#df.to_csv(dir+\"cleaned_train_v1.csv\")"
   ]
  },
  {
   "cell_type": "markdown",
   "metadata": {
    "id": "ZjCbByuBFZK9"
   },
   "source": [
    "## Model Training"
   ]
  },
  {
   "cell_type": "markdown",
   "metadata": {
    "id": "EfnUjv7kKnDv"
   },
   "source": [
    "### Train-Test ShuffleSplit"
   ]
  },
  {
   "cell_type": "code",
   "execution_count": null,
   "metadata": {
    "colab": {
     "base_uri": "https://localhost:8080/"
    },
    "executionInfo": {
     "elapsed": 4998,
     "status": "ok",
     "timestamp": 1604567383288,
     "user": {
      "displayName": "jieyi ji",
      "photoUrl": "https://lh3.googleusercontent.com/a-/AOh14GiYh62xXNDXt1wAXiI_xPFYFCkomVPQJ4A2OZU-=s64",
      "userId": "14715382248570789684"
     },
     "user_tz": -480
    },
    "id": "GXPdIrHa-ikQ",
    "outputId": "1a71b69b-0f36-4311-eae9-d13fc2f77432"
   },
   "outputs": [
    {
     "data": {
      "text/plain": [
       "63002                 fuck you bizitch \\n\\nYo fuck u fuck u\n",
       "5813      \"HUNK should have his own page separate from m...\n",
       "26667     \"\\n Why do you classify the Liberal Democrats ...\n",
       "148285    , 15 September 2013 (UTC)\\nI have already agre...\n",
       "57628     \"\\nGave a couple stories a listen and the repo...\n",
       "                                ...                        \n",
       "80579     \"\\n\\nThat link you are looking for is now in t...\n",
       "65660     \"\\n\\nPersonally, I am shocked that this sort o...\n",
       "138620    Any notional improvement was purely accidental...\n",
       "36796     Good evening, Terrence! \\n\\nIn the UK, the tim...\n",
       "139959    Oh not you again!!! And so? After the block ha...\n",
       "Name: comment_text, Length: 31901, dtype: object"
      ]
     },
     "execution_count": 34,
     "metadata": {
      "tags": []
     },
     "output_type": "execute_result"
    }
   ],
   "source": [
    "y = pd.DataFrame(df.iloc[:, 2:8]) #obtain labels dataframe\n",
    "#X_train, X_val, y_train, y_val = train_test_split(X, y, test_size=0.2, random_state=42)\n",
    "from sklearn.model_selection import ShuffleSplit\n",
    "\n",
    "skf = ShuffleSplit(n_splits=1,test_size=0.2, random_state=42)\n",
    "for train_id, test_id in skf.split(X,y):\n",
    "    X_train, X_val = X[train_id], X[test_id]\n",
    "    y_train, y_val = y.loc[train_id,:], y.loc[test_id,:]\n",
    "    X_val_original = df['comment_text'][test_id]\n",
    "X_val_original"
   ]
  },
  {
   "cell_type": "markdown",
   "metadata": {
    "id": "3igcfC4poMLQ"
   },
   "source": [
    "### Iterative Splits"
   ]
  },
  {
   "cell_type": "code",
   "execution_count": null,
   "metadata": {
    "id": "4ek4-UfEoPiV"
   },
   "outputs": [],
   "source": [
    "y = df[[\"toxic\", \"severe_toxic\", \"obscene\", \"threat\", \"insult\", \"identity_hate\"]].values\n",
    "X_train, y_train, X_test, y_test = iterative_train_test_split(X, y, test_size = 0.2)"
   ]
  },
  {
   "cell_type": "markdown",
   "metadata": {
    "id": "WYAWFbt_Ks-v"
   },
   "source": [
    "### Multi-label Multiclass *Learning*"
   ]
  },
  {
   "cell_type": "code",
   "execution_count": null,
   "metadata": {
    "id": "JsBg2T7JF13q"
   },
   "outputs": [],
   "source": [
    "#!pip install scikit-multilearn\n",
    "\n",
    "model = SVC(probability=True, C=0.5, kernel='rbf', decision_function_shape= 'ovr',degree=3, gamma=0.5,shrinking= True)\n",
    "#model = XGBClassifier()\n",
    "\n",
    "clf_BR = BinaryRelevance(#treat each label as a separate single-class classification problems\n",
    "    classifier = model,\n",
    "    require_dense = [False, True]\n",
    ")\n",
    "\n",
    "clf_CC = ClassifierChain(#treat each label as a park of a conditioned chain of single-class classificatn prob\n",
    "    classifier = model,\n",
    "    require_dense = [False, True]\n",
    ")\n",
    "\n",
    "\n",
    "clf_LP = LabelPowerset(\n",
    "    classifier = model,\n",
    "    require_dense = [False, True]\n",
    ")"
   ]
  },
  {
   "cell_type": "code",
   "execution_count": null,
   "metadata": {
    "colab": {
     "base_uri": "https://localhost:8080/"
    },
    "executionInfo": {
     "elapsed": 379079,
     "status": "ok",
     "timestamp": 1604652466708,
     "user": {
      "displayName": "jieyi ji",
      "photoUrl": "https://lh3.googleusercontent.com/a-/AOh14GiYh62xXNDXt1wAXiI_xPFYFCkomVPQJ4A2OZU-=s64",
      "userId": "14715382248570789684"
     },
     "user_tz": -480
    },
    "id": "aydcXX4qHA_3",
    "outputId": "1293538c-fd8d-4549-879b-420b4160a2e1"
   },
   "outputs": [
    {
     "data": {
      "text/plain": [
       "BinaryRelevance(classifier=XGBClassifier(base_score=0.5, booster='gbtree',\n",
       "                                         colsample_bylevel=1,\n",
       "                                         colsample_bynode=1, colsample_bytree=1,\n",
       "                                         gamma=0, learning_rate=0.1,\n",
       "                                         max_delta_step=0, max_depth=3,\n",
       "                                         min_child_weight=1, missing=None,\n",
       "                                         n_estimators=100, n_jobs=1,\n",
       "                                         nthread=None,\n",
       "                                         objective='binary:logistic',\n",
       "                                         random_state=0, reg_alpha=0,\n",
       "                                         reg_lambda=1, scale_pos_weight=1,\n",
       "                                         seed=None, silent=None, subsample=1,\n",
       "                                         verbosity=1),\n",
       "                require_dense=[False, True])"
      ]
     },
     "execution_count": 19,
     "metadata": {
      "tags": []
     },
     "output_type": "execute_result"
    }
   ],
   "source": [
    "clf_BR.fit(X_train, y_train)"
   ]
  },
  {
   "cell_type": "code",
   "execution_count": null,
   "metadata": {
    "colab": {
     "base_uri": "https://localhost:8080/"
    },
    "executionInfo": {
     "elapsed": 395135,
     "status": "ok",
     "timestamp": 1604649630976,
     "user": {
      "displayName": "jieyi ji",
      "photoUrl": "https://lh3.googleusercontent.com/a-/AOh14GiYh62xXNDXt1wAXiI_xPFYFCkomVPQJ4A2OZU-=s64",
      "userId": "14715382248570789684"
     },
     "user_tz": -480
    },
    "id": "3R3mELxxglE6",
    "outputId": "27f2156e-9851-4738-9207-9450f2921f65"
   },
   "outputs": [
    {
     "data": {
      "text/plain": [
       "ClassifierChain(classifier=XGBClassifier(base_score=0.5, booster='gbtree',\n",
       "                                         colsample_bylevel=1,\n",
       "                                         colsample_bynode=1, colsample_bytree=1,\n",
       "                                         gamma=0, learning_rate=0.1,\n",
       "                                         max_delta_step=0, max_depth=3,\n",
       "                                         min_child_weight=1, missing=None,\n",
       "                                         n_estimators=100, n_jobs=1,\n",
       "                                         nthread=None,\n",
       "                                         objective='binary:logistic',\n",
       "                                         random_state=0, reg_alpha=0,\n",
       "                                         reg_lambda=1, scale_pos_weight=1,\n",
       "                                         seed=None, silent=None, subsample=1,\n",
       "                                         verbosity=1),\n",
       "                order=None, require_dense=[False, True])"
      ]
     },
     "execution_count": 9,
     "metadata": {
      "tags": []
     },
     "output_type": "execute_result"
    }
   ],
   "source": [
    "clf_CC.fit(X_train,y_train)"
   ]
  },
  {
   "cell_type": "code",
   "execution_count": null,
   "metadata": {
    "id": "P4nvqcYRgmoe"
   },
   "outputs": [],
   "source": [
    "clf_LP.fit(X_train,y_train)"
   ]
  },
  {
   "cell_type": "markdown",
   "metadata": {
    "id": "QzuaF6opKxsc"
   },
   "source": [
    "## Model Evaluation"
   ]
  },
  {
   "cell_type": "code",
   "execution_count": null,
   "metadata": {
    "id": "GMjft-ICmyu6"
   },
   "outputs": [],
   "source": [
    "#clf_CC = pickle.load(open('/content/drive/My Drive/BT4221/Models/CC_RandomForest.sav','rb'))\n",
    "#clf_LP = pickle.load(open('/content/drive/My Drive/BT4221/Models/LP_RandomForest.sav','rb'))"
   ]
  },
  {
   "cell_type": "code",
   "execution_count": null,
   "metadata": {
    "id": "QD_jUoQDKM0h"
   },
   "outputs": [],
   "source": [
    "#prediction_BR = clf_BR.predict(X_test)\n",
    "#prediction_CC = clf_CC.predict(X_test)\n",
    "prediction_LP = clf_LP.predict(X_test)"
   ]
  },
  {
   "cell_type": "code",
   "execution_count": null,
   "metadata": {
    "colab": {
     "base_uri": "https://localhost:8080/"
    },
    "executionInfo": {
     "elapsed": 552,
     "status": "ok",
     "timestamp": 1604652493022,
     "user": {
      "displayName": "jieyi ji",
      "photoUrl": "https://lh3.googleusercontent.com/a-/AOh14GiYh62xXNDXt1wAXiI_xPFYFCkomVPQJ4A2OZU-=s64",
      "userId": "14715382248570789684"
     },
     "user_tz": -480
    },
    "id": "UQKSDDnLKM__",
    "outputId": "35ed1cf0-9d26-48dd-b767-107e15b7f12c"
   },
   "outputs": [
    {
     "name": "stdout",
     "output_type": "stream",
     "text": [
      "Hamming Loss (Binary Relevance) : 0.02221978412379967\n"
     ]
    }
   ],
   "source": [
    " #The fraction of labels that are incorrectly predicted\n",
    "import sklearn.metrics as metrics\n",
    "\n",
    "#print(\"Hamming Loss (Binary Relevance) : {}\".format(metrics.hamming_loss(y_test, prediction_BR)))\n",
    "#print(\"Hamming Loss (Classification Chain) : {}\".format(metrics.hamming_loss(y_test, prediction_CC)))\n",
    "print(\"Hamming Loss (Label Powerset) : {}\".format(metrics.hamming_loss(y_test, prediction_LP)))"
   ]
  },
  {
   "cell_type": "code",
   "execution_count": null,
   "metadata": {
    "colab": {
     "base_uri": "https://localhost:8080/"
    },
    "executionInfo": {
     "elapsed": 866,
     "status": "ok",
     "timestamp": 1604652495045,
     "user": {
      "displayName": "jieyi ji",
      "photoUrl": "https://lh3.googleusercontent.com/a-/AOh14GiYh62xXNDXt1wAXiI_xPFYFCkomVPQJ4A2OZU-=s64",
      "userId": "14715382248570789684"
     },
     "user_tz": -480
    },
    "id": "AQjTv31tKMJ4",
    "outputId": "bf35d737-4160-40f9-acb9-a8ede0d47968"
   },
   "outputs": [
    {
     "name": "stdout",
     "output_type": "stream",
     "text": [
      "Accuracy Score (Binary Relevance) : 0.9129180903419956\n"
     ]
    }
   ],
   "source": [
    "#print(\"Accuracy Score (Binary Relevance) : {}\".format(metrics.accuracy_score(y_test, prediction_BR)))\n",
    "#print(\"Accuracy Score (Classification Chain) : {}\".format(metrics.accuracy_score(y_test, prediction_CC)))\n",
    "print(\"Accuracy Score (Label Powerset) : {}\".format(metrics.accuracy_score(y_test, prediction_LP)))"
   ]
  },
  {
   "cell_type": "code",
   "execution_count": null,
   "metadata": {
    "colab": {
     "base_uri": "https://localhost:8080/"
    },
    "executionInfo": {
     "elapsed": 511,
     "status": "ok",
     "timestamp": 1604652495508,
     "user": {
      "displayName": "jieyi ji",
      "photoUrl": "https://lh3.googleusercontent.com/a-/AOh14GiYh62xXNDXt1wAXiI_xPFYFCkomVPQJ4A2OZU-=s64",
      "userId": "14715382248570789684"
     },
     "user_tz": -480
    },
    "id": "BN6W4p78KU28",
    "outputId": "757d69c3-0969-45aa-ebdd-19d43e678020"
   },
   "outputs": [
    {
     "name": "stdout",
     "output_type": "stream",
     "text": [
      "F1 Score (Binary Relevance) : 0.5966808914177335\n"
     ]
    }
   ],
   "source": [
    "#print(\"F1 Score (Binary Relevance) : {}\".format(f1_score(prediction_BR,y_test,average='micro')))\n",
    "#print(\"F1 Score (Classification Chain) : {}\".format(f1_score(prediction_CC,y_test,average='micro')))\n",
    "print(\"F1 Score (Label Powerset) : {}\".format(f1_score(prediction_LP,y_test,average='micro')))"
   ]
  },
  {
   "cell_type": "code",
   "execution_count": null,
   "metadata": {
    "id": "TNHjkPEKTM-5"
   },
   "outputs": [],
   "source": [
    "pickle.dump(clf_BR,open('/content/drive/My Drive/BT4221/Models/BR_XGBoost.sav','wb'))\n",
    "#pickle.dump(clf_CC,open('/content/drive/My Drive/BT4221/Models/CC_XGBoost.sav','wb'))"
   ]
  },
  {
   "cell_type": "code",
   "execution_count": null,
   "metadata": {
    "id": "m4w8ZPDfKU7z"
   },
   "outputs": [],
   "source": [
    "pickle.dump(clf_LP,open('/content/drive/My Drive/BT4221/Models/LP_SVM.sav','wb'))"
   ]
  },
  {
   "cell_type": "code",
   "execution_count": null,
   "metadata": {
    "id": "u58WoZWbKU6E"
   },
   "outputs": [],
   "source": []
  },
  {
   "cell_type": "code",
   "execution_count": null,
   "metadata": {
    "id": "voRda6-fKUs6"
   },
   "outputs": [],
   "source": []
  }
 ],
 "metadata": {
  "accelerator": "TPU",
  "colab": {
   "collapsed_sections": [],
   "name": "TFIDF + Machine Learning.ipynb",
   "provenance": [],
   "toc_visible": true
  },
  "kernelspec": {
   "display_name": "Python 3",
   "language": "python",
   "name": "python3"
  },
  "language_info": {
   "codemirror_mode": {
    "name": "ipython",
    "version": 3
   },
   "file_extension": ".py",
   "mimetype": "text/x-python",
   "name": "python",
   "nbconvert_exporter": "python",
   "pygments_lexer": "ipython3",
   "version": "3.8.3"
  }
 },
 "nbformat": 4,
 "nbformat_minor": 1
}
